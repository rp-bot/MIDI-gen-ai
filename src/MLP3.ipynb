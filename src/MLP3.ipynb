{
  "cells": [
    {
      "cell_type": "code",
      "execution_count": 1,
      "metadata": {
        "id": "7lDFibCgbHwr"
      },
      "outputs": [],
      "source": [
        "import torch\n",
        "import torch.nn.functional as F\n",
        "import matplotlib.pyplot as plt # for making figures\n",
        "from music21 import chord, note, stream, clef, meter\n",
        "from data_cleaning import Open\n",
        "import os\n",
        "%matplotlib inline"
      ]
    },
    {
      "cell_type": "code",
      "execution_count": 2,
      "metadata": {
        "id": "htdQCnUPbhS9"
      },
      "outputs": [],
      "source": [
        "mid_file1 = os.path.join(os.getcwd(), \"progression1.mid\")\n",
        "midi_data1 = Open.open_midi(mid_file1)\n",
        "mid_file2 = os.path.join(os.getcwd(), \"progression2.mid\")\n",
        "midi_data2 = Open.open_midi(mid_file2)\n",
        "concatenated_array = []"
      ]
    },
    {
      "cell_type": "code",
      "execution_count": 4,
      "metadata": {
        "id": "ylW9Ir3GbHws",
        "outputId": "0c874340-2a0f-4d12-fcb0-2035564cebf3"
      },
      "outputs": [],
      "source": [
        "for i, part in enumerate(midi_data2.parts):\n",
        "    for element in part.recurse():\n",
        "        if isinstance(element, chord.Chord):\n",
        "            concatenated_array.append(element)"
      ]
    },
    {
      "cell_type": "code",
      "execution_count": 5,
      "metadata": {
        "id": "GPwi-_rEbHwt",
        "outputId": "237fb410-4940-448b-a00b-0ab334f768e3"
      },
      "outputs": [],
      "source": [
        "all_chords = []\n",
        "for chord in concatenated_array:\n",
        "    chord_arr = []\n",
        "    for notes in chord:\n",
        "        chord_arr.append(notes.pitch.ps)\n",
        "    all_chords.append(chord_arr)\n",
        "\n",
        "flattened_list = [int(element)\n",
        "                  for sublist in all_chords for element in sublist]\n",
        "notes = sorted(set(flattened_list))\n",
        "n_to_i = {s: i + 1 for i, s in enumerate(notes)}\n",
        "n_to_i[\".\"] = 0\n",
        "\n",
        "i_to_n = {value: key for key, value in n_to_i.items()}\n",
        "\n",
        "vocab_size = len(i_to_n)"
      ]
    },
    {
      "cell_type": "code",
      "execution_count": null,
      "metadata": {},
      "outputs": [],
      "source": [
        "i_to_n"
      ]
    },
    {
      "cell_type": "code",
      "execution_count": 6,
      "metadata": {
        "id": "j8JdduA3bHwu"
      },
      "outputs": [],
      "source": [
        "# shuffle up the words\n",
        "import random\n",
        "\n",
        "random.seed(42)\n",
        "random.shuffle(all_chords)"
      ]
    },
    {
      "cell_type": "code",
      "execution_count": 18,
      "metadata": {
        "id": "kcrfsUG_bHwu",
        "outputId": "4d05c8d0-9d1f-4b1e-dfdb-db2becfe8afc"
      },
      "outputs": [
        {
          "name": "stdout",
          "output_type": "stream",
          "text": [
            "torch.Size([786, 8]) torch.Size([786])\n",
            "torch.Size([99, 8]) torch.Size([99])\n",
            "torch.Size([106, 8]) torch.Size([106])\n"
          ]
        }
      ],
      "source": [
        "# build the dataset\n",
        "block_size = 8  # context length: how many characters do we take to predict the next one?\n",
        "\n",
        "\n",
        "def build_dataset(n_chords):\n",
        "    X, Y = [], []\n",
        "\n",
        "    for notes in n_chords:\n",
        "        context = [0] * block_size\n",
        "\n",
        "        for n in notes + [\".\"]:\n",
        "            ix = n_to_i[n]\n",
        "            X.append(context)\n",
        "            Y.append(ix)\n",
        "            context = context[1:] + [ix]  # crop and append\n",
        "\n",
        "    X = torch.tensor(X)\n",
        "    Y = torch.tensor(Y)\n",
        "    print(X.shape, Y.shape)\n",
        "    return X, Y\n",
        "\n",
        "\n",
        "n1 = int(0.8*len(all_chords))\n",
        "n2 = int(0.9*len(all_chords))\n",
        "Xtr,  Ytr = build_dataset(all_chords[:n1])     # 80%\n",
        "Xdev, Ydev = build_dataset(all_chords[n1:n2])   # 10%\n",
        "Xte,  Yte = build_dataset(all_chords[n2:])     # 10%"
      ]
    },
    {
      "cell_type": "code",
      "execution_count": 26,
      "metadata": {
        "id": "9aFDMks6bHwv",
        "outputId": "2bb77886-1172-4b43-f446-b2e990e549aa"
      },
      "outputs": [
        {
          "name": "stdout",
          "output_type": "stream",
          "text": [
            "['.', '.', '.', '.', '.', '.', '.', '.'] --> 45\n",
            "['.', '.', '.', '.', '.', '.', '.', 45] --> 55\n",
            "['.', '.', '.', '.', '.', '.', 45, 55] --> 57\n",
            "['.', '.', '.', '.', '.', 45, 55, 57] --> 60\n",
            "['.', '.', '.', '.', 45, 55, 57, 60] --> 64\n",
            "['.', '.', '.', 45, 55, 57, 60, 64] --> .\n",
            "['.', '.', '.', '.', '.', '.', '.', '.'] --> 41\n",
            "['.', '.', '.', '.', '.', '.', '.', 41] --> 53\n",
            "['.', '.', '.', '.', '.', '.', 41, 53] --> 57\n",
            "['.', '.', '.', '.', '.', 41, 53, 57] --> 60\n",
            "['.', '.', '.', '.', 41, 53, 57, 60] --> .\n",
            "['.', '.', '.', '.', '.', '.', '.', '.'] --> 43\n",
            "['.', '.', '.', '.', '.', '.', '.', 43] --> 55\n",
            "['.', '.', '.', '.', '.', '.', 43, 55] --> 59\n",
            "['.', '.', '.', '.', '.', 43, 55, 59] --> 62\n",
            "['.', '.', '.', '.', 43, 55, 59, 62] --> .\n",
            "['.', '.', '.', '.', '.', '.', '.', '.'] --> 48\n",
            "['.', '.', '.', '.', '.', '.', '.', 48] --> 55\n",
            "['.', '.', '.', '.', '.', '.', 48, 55] --> 60\n",
            "['.', '.', '.', '.', '.', 48, 55, 60] --> 64\n"
          ]
        }
      ],
      "source": [
        "for x, y in zip(Xtr[:20], Ytr[:20]):\n",
        "    print([i_to_n[ix.item()] for ix in x], \"-->\", i_to_n[y.item()])"
      ]
    },
    {
      "cell_type": "code",
      "execution_count": 76,
      "metadata": {
        "id": "-goFZmrabHww"
      },
      "outputs": [],
      "source": [
        "# Near copy paste of the layers we have developed in Part 3\n",
        "\n",
        "# -----------------------------------------------------------------------------------------------\n",
        "class Linear:\n",
        "\n",
        "    def __init__(self, fan_in, fan_out, bias=True):\n",
        "        self.weight = torch.randn((fan_in, fan_out)) / \\\n",
        "            fan_in**0.5 +0.01 # note: kaiming init\n",
        "        self.bias = torch.zeros(fan_out) if bias else None\n",
        "\n",
        "    def __call__(self, x):\n",
        "        self.out = x @ self.weight\n",
        "        if self.bias is not None:\n",
        "            self.out += self.bias\n",
        "        return self.out\n",
        "\n",
        "    def parameters(self):\n",
        "        return [self.weight] + ([] if self.bias is None else [self.bias])\n",
        "\n",
        "# -----------------------------------------------------------------------------------------------\n",
        "\n",
        "\n",
        "class BatchNorm1d:\n",
        "\n",
        "    def __init__(self, dim, eps=1e-5, momentum=0.1):\n",
        "        self.eps = eps\n",
        "        self.momentum = momentum\n",
        "        self.training = True\n",
        "        # parameters (trained with backprop)\n",
        "        self.gamma = torch.ones(dim)\n",
        "        self.beta = torch.zeros(dim)\n",
        "        # buffers (trained with a running 'momentum update')\n",
        "        self.running_mean = torch.zeros(dim)\n",
        "        self.running_var = torch.ones(dim)\n",
        "\n",
        "    def __call__(self, x):\n",
        "        # calculate the forward pass\n",
        "        if self.training:\n",
        "            if x.ndim == 2:\n",
        "                dim = 0\n",
        "            elif x.ndim == 3:\n",
        "                dim = (0, 1)\n",
        "            xmean = x.mean(dim, keepdim=True)  # batch mean\n",
        "            xvar = x.var(dim, keepdim=True)  # batch variance\n",
        "        else:\n",
        "            xmean = self.running_mean\n",
        "            xvar = self.running_var\n",
        "        # normalize to unit variance\n",
        "        xhat = (x - xmean) / torch.sqrt(xvar + self.eps)\n",
        "        self.out = self.gamma * xhat + self.beta\n",
        "        # update the buffers\n",
        "        if self.training:\n",
        "            with torch.no_grad():\n",
        "                self.running_mean = (1 - self.momentum) * \\\n",
        "                    self.running_mean + self.momentum * xmean\n",
        "                self.running_var = (1 - self.momentum) * \\\n",
        "                    self.running_var + self.momentum * xvar\n",
        "        return self.out\n",
        "\n",
        "    def parameters(self):\n",
        "        return [self.gamma, self.beta]\n",
        "\n",
        "# -----------------------------------------------------------------------------------------------\n",
        "\n",
        "\n",
        "class Tanh:\n",
        "    def __call__(self, x):\n",
        "        self.out = torch.tanh(x)\n",
        "        return self.out\n",
        "\n",
        "    def parameters(self):\n",
        "        return []\n",
        "\n",
        "# -----------------------------------------------------------------------------------------------\n",
        "\n",
        "\n",
        "class Embedding:\n",
        "\n",
        "    def __init__(self, num_embeddings, embedding_dim):\n",
        "        self.weight = torch.randn((num_embeddings, embedding_dim))\n",
        "\n",
        "    def __call__(self, IX):\n",
        "        self.out = self.weight[IX]\n",
        "        return self.out\n",
        "\n",
        "    def parameters(self):\n",
        "        return [self.weight]\n",
        "\n",
        "# -----------------------------------------------------------------------------------------------\n",
        "\n",
        "\n",
        "class FlattenConsecutive:\n",
        "\n",
        "    def __init__(self, n):\n",
        "        self.n = n\n",
        "\n",
        "    def __call__(self, x):\n",
        "        B, T, C = x.shape\n",
        "        x = x.view(B, T//self.n, C*self.n)\n",
        "        if x.shape[1] == 1:\n",
        "            x = x.squeeze(1)\n",
        "        self.out = x\n",
        "        return self.out\n",
        "\n",
        "    def parameters(self):\n",
        "        return []\n",
        "\n",
        "# -----------------------------------------------------------------------------------------------\n",
        "\n",
        "\n",
        "class Sequential:\n",
        "\n",
        "    def __init__(self, layers):\n",
        "        self.layers = layers\n",
        "\n",
        "    def __call__(self, x):\n",
        "        for layer in self.layers:\n",
        "            x = layer(x)\n",
        "        self.out = x\n",
        "        return self.out\n",
        "\n",
        "    def parameters(self):\n",
        "        # get parameters of all layers and stretch them out into one list\n",
        "        return [p for layer in self.layers for p in layer.parameters()]"
      ]
    },
    {
      "cell_type": "code",
      "execution_count": 77,
      "metadata": {
        "id": "v01gpFOSbHwx"
      },
      "outputs": [
        {
          "data": {
            "text/plain": [
              "<torch._C.Generator at 0x21d7a27f7b0>"
            ]
          },
          "execution_count": 77,
          "metadata": {},
          "output_type": "execute_result"
        }
      ],
      "source": [
        "torch.manual_seed(42)  # seed rng for reproducibility"
      ]
    },
    {
      "cell_type": "code",
      "execution_count": 85,
      "metadata": {
        "id": "vHMDMtvpbHwx",
        "outputId": "dbb414a9-5753-4f41-c545-34957779b09e"
      },
      "outputs": [
        {
          "name": "stdout",
          "output_type": "stream",
          "text": [
            "19736\n"
          ]
        }
      ],
      "source": [
        "# hierarchical network\n",
        "n_embd = 16  # the dimensionality of the character embedding vectors\n",
        "n_hidden = 64  # the number of neurons in the hidden layer of the MLP\n",
        "model = Sequential([\n",
        "    Embedding(vocab_size, n_embd),\n",
        "    FlattenConsecutive(2), Linear(n_embd*2, n_hidden,\n",
        "                                  bias=False), BatchNorm1d(n_hidden), Tanh(),\n",
        "    FlattenConsecutive(2), Linear(n_hidden*2, n_hidden,\n",
        "                                  bias=False), BatchNorm1d(n_hidden), Tanh(),\n",
        "    FlattenConsecutive(2), Linear(n_hidden*2, n_hidden,\n",
        "                                  bias=False), BatchNorm1d(n_hidden), Tanh(),\n",
        "    Linear(n_hidden, vocab_size),\n",
        "])\n",
        "\n",
        "# parameter init\n",
        "with torch.no_grad():\n",
        "    model.layers[-1].weight *= 0.1  # last layer make less confident\n",
        "\n",
        "parameters = model.parameters()\n",
        "print(sum(p.nelement() for p in parameters))  # number of parameters in total\n",
        "for p in parameters:\n",
        "    p.requires_grad = True"
      ]
    },
    {
      "cell_type": "code",
      "execution_count": 86,
      "metadata": {
        "id": "Sh9SEATabHwy",
        "outputId": "4238b680-4e09-4da1-a52f-5153a4119ba5"
      },
      "outputs": [
        {
          "ename": "RuntimeError",
          "evalue": "mat1 and mat2 shapes cannot be multiplied (128x32 and 16x64)",
          "output_type": "error",
          "traceback": [
            "\u001b[1;31m---------------------------------------------------------------------------\u001b[0m",
            "\u001b[1;31mRuntimeError\u001b[0m                              Traceback (most recent call last)",
            "Cell \u001b[1;32mIn[86], line 12\u001b[0m\n\u001b[0;32m      9\u001b[0m Xb, Yb \u001b[39m=\u001b[39m Xtr[ix], Ytr[ix]  \u001b[39m# batch X,Y\u001b[39;00m\n\u001b[0;32m     11\u001b[0m \u001b[39m# forward pass\u001b[39;00m\n\u001b[1;32m---> 12\u001b[0m logits \u001b[39m=\u001b[39m model(Xb)\n\u001b[0;32m     13\u001b[0m loss \u001b[39m=\u001b[39m F\u001b[39m.\u001b[39mcross_entropy(logits, Yb)  \u001b[39m# loss function\u001b[39;00m\n\u001b[0;32m     15\u001b[0m \u001b[39m# backward pass\u001b[39;00m\n",
            "Cell \u001b[1;32mIn[76], line 118\u001b[0m, in \u001b[0;36mSequential.__call__\u001b[1;34m(self, x)\u001b[0m\n\u001b[0;32m    116\u001b[0m \u001b[39mdef\u001b[39;00m \u001b[39m__call__\u001b[39m(\u001b[39mself\u001b[39m, x):\n\u001b[0;32m    117\u001b[0m     \u001b[39mfor\u001b[39;00m layer \u001b[39min\u001b[39;00m \u001b[39mself\u001b[39m\u001b[39m.\u001b[39mlayers:\n\u001b[1;32m--> 118\u001b[0m         x \u001b[39m=\u001b[39m layer(x)\n\u001b[0;32m    119\u001b[0m     \u001b[39mself\u001b[39m\u001b[39m.\u001b[39mout \u001b[39m=\u001b[39m x\n\u001b[0;32m    120\u001b[0m     \u001b[39mreturn\u001b[39;00m \u001b[39mself\u001b[39m\u001b[39m.\u001b[39mout\n",
            "Cell \u001b[1;32mIn[76], line 12\u001b[0m, in \u001b[0;36mLinear.__call__\u001b[1;34m(self, x)\u001b[0m\n\u001b[0;32m     11\u001b[0m \u001b[39mdef\u001b[39;00m \u001b[39m__call__\u001b[39m(\u001b[39mself\u001b[39m, x):\n\u001b[1;32m---> 12\u001b[0m     \u001b[39mself\u001b[39m\u001b[39m.\u001b[39mout \u001b[39m=\u001b[39m x \u001b[39m@\u001b[39;49m \u001b[39mself\u001b[39;49m\u001b[39m.\u001b[39;49mweight\n\u001b[0;32m     13\u001b[0m     \u001b[39mif\u001b[39;00m \u001b[39mself\u001b[39m\u001b[39m.\u001b[39mbias \u001b[39mis\u001b[39;00m \u001b[39mnot\u001b[39;00m \u001b[39mNone\u001b[39;00m:\n\u001b[0;32m     14\u001b[0m         \u001b[39mself\u001b[39m\u001b[39m.\u001b[39mout \u001b[39m+\u001b[39m\u001b[39m=\u001b[39m \u001b[39mself\u001b[39m\u001b[39m.\u001b[39mbias\n",
            "\u001b[1;31mRuntimeError\u001b[0m: mat1 and mat2 shapes cannot be multiplied (128x32 and 16x64)"
          ]
        }
      ],
      "source": [
        "# same optimization as last time\n",
        "max_steps = 200000\n",
        "batch_size = 32\n",
        "lossi = []\n",
        "\n",
        "for i in range(max_steps):\n",
        "    # minibatch construct\n",
        "    ix = torch.randint(0, Xtr.shape[0], (batch_size,))\n",
        "    Xb, Yb = Xtr[ix], Ytr[ix]  # batch X,Y\n",
        "\n",
        "    # forward pass\n",
        "    logits = model(Xb)\n",
        "    loss = F.cross_entropy(logits, Yb)  # loss function\n",
        "\n",
        "    # backward pass\n",
        "    for p in parameters:\n",
        "        p.grad = None\n",
        "    loss.backward()\n",
        "\n",
        "    # update: simple SGD\n",
        "    lr = 1.5 if i < 150000 else 0.01  # step learning rate decay\n",
        "    for p in parameters:\n",
        "        p.data += -lr * p.grad\n",
        "\n",
        "    # track stats\n",
        "    if i % 1000 == 0:  # print every once in a while\n",
        "        print(f\"{i:7d}/{max_steps:7d}: {loss.item():.4f}\")\n",
        "    lossi.append(loss.log10().item())\n",
        "    # break"
      ]
    },
    {
      "cell_type": "code",
      "execution_count": 54,
      "metadata": {},
      "outputs": [],
      "source": [
        "del lossi[-67:]"
      ]
    },
    {
      "cell_type": "code",
      "execution_count": 55,
      "metadata": {
        "id": "XrOSTEFzbHwz",
        "outputId": "64b7e0c9-a0a0-4daa-cee0-0c12541fa959"
      },
      "outputs": [
        {
          "data": {
            "text/plain": [
              "[<matplotlib.lines.Line2D at 0x21d03d543d0>]"
            ]
          },
          "execution_count": 55,
          "metadata": {},
          "output_type": "execute_result"
        },
        {
          "data": {
            "image/png": "[encoded data removed]",
            "text/plain": [
              "<Figure size 640x480 with 1 Axes>"
            ]
          },
          "metadata": {
            "image/png": {
              "height": 413,
              "width": 568
            }
          },
          "output_type": "display_data"
        }
      ],
      "source": [
        "plt.plot(torch.tensor(lossi).view(-1, 1000).mean(1))"
      ]
    },
    {
      "cell_type": "code",
      "execution_count": null,
      "metadata": {
        "id": "ehknU7xtbHwz"
      },
      "outputs": [],
      "source": [
        "# put layers into eval mode (needed for batchnorm especially)\n",
        "for layer in model.layers:\n",
        "    layer.training = False"
      ]
    },
    {
      "cell_type": "code",
      "execution_count": null,
      "metadata": {
        "id": "5W1wFpKubHwz",
        "outputId": "a965238b-34f8-42de-e6d6-3777a6837cd1"
      },
      "outputs": [
        {
          "name": "stdout",
          "output_type": "stream",
          "text": [
            "train 1.7690284252166748\n",
            "val 1.9936515092849731\n"
          ]
        }
      ],
      "source": [
        "# evaluate the loss\n",
        "@torch.no_grad()  # this decorator disables gradient tracking inside pytorch\n",
        "def split_loss(split):\n",
        "    x, y = {\n",
        "        'train': (Xtr, Ytr),\n",
        "        'val': (Xdev, Ydev),\n",
        "        'test': (Xte, Yte),\n",
        "    }[split]\n",
        "    logits = model(x)\n",
        "    loss = F.cross_entropy(logits, y)\n",
        "    print(split, loss.item())\n",
        "\n",
        "\n",
        "split_loss('train')\n",
        "split_loss('val')"
      ]
    },
    {
      "attachments": {},
      "cell_type": "markdown",
      "metadata": {
        "id": "yQdB3cZYbHw0"
      },
      "source": [
        "### performance log\n",
        "\n",
        "-   original (3 character context + 200 hidden neurons, 12K params): train 2.058, val 2.105\n",
        "-   context: 3 -> 8 (22K params): train 1.918, val 2.027\n",
        "-   flat -> hierarchical (22K params): train 1.941, val 2.029\n",
        "-   fix bug in batchnorm: train 1.912, val 2.022\n",
        "-   scale up the network: n_embd 24, n_hidden 128 (76K params): train 1.769, val 1.993\n"
      ]
    },
    {
      "cell_type": "code",
      "execution_count": null,
      "metadata": {
        "id": "CSE5ZEgebHw0",
        "outputId": "b8f5baf1-143e-4fd6-8e14-cc1d1bd3a0b3"
      },
      "outputs": [
        {
          "name": "stdout",
          "output_type": "stream",
          "text": [
            "arlij.\n",
            "chetta.\n",
            "heago.\n",
            "rocklei.\n",
            "hendrix.\n",
            "jamylie.\n",
            "broxin.\n",
            "denish.\n",
            "anslibt.\n",
            "marianah.\n",
            "astavia.\n",
            "annayve.\n",
            "aniah.\n",
            "jayce.\n",
            "nodiel.\n",
            "remita.\n",
            "niyelle.\n",
            "jaylene.\n",
            "aiyan.\n",
            "aubreana.\n"
          ]
        }
      ],
      "source": [
        "# sample from the model\n",
        "for _ in range(20):\n",
        "    out = []\n",
        "    context = [0] * block_size  # initialize with all ...\n",
        "    while True:\n",
        "        # forward pass the neural net\n",
        "        logits = model(torch.tensor([context]))\n",
        "        probs = F.softmax(logits, dim=1)\n",
        "        # sample from the distribution\n",
        "        ix = torch.multinomial(probs, num_samples=1).item()\n",
        "        # shift the context window and track the samples\n",
        "        context = context[1:] + [ix]\n",
        "        out.append(ix)\n",
        "        # if we sample the special '.' token, break\n",
        "        if ix == 0:\n",
        "            break\n",
        "\n",
        "    # decode and print the generated word\n",
        "    print(\"\".join(i_to_n[i] for i in out))"
      ]
    },
    {
      "attachments": {},
      "cell_type": "markdown",
      "metadata": {
        "id": "5w054JOpbHw1"
      },
      "source": [
        "### Next time:\n",
        "\n",
        "Why convolutions? Brief preview/hint\n"
      ]
    },
    {
      "cell_type": "code",
      "execution_count": null,
      "metadata": {
        "id": "zBP4pbSnbHw1",
        "outputId": "5dc847b5-d40b-4e6a-f25b-55eedc770b39"
      },
      "outputs": [
        {
          "name": "stdout",
          "output_type": "stream",
          "text": [
            "........ --> d\n",
            ".......d --> i\n",
            "......di --> o\n",
            ".....dio --> n\n",
            "....dion --> d\n",
            "...diond --> r\n",
            "..diondr --> e\n",
            ".diondre --> .\n"
          ]
        }
      ],
      "source": [
        "for x, y in zip(Xtr[7:15], Ytr[7:15]):\n",
        "    print(\"\".join(itos[ix.item()] for ix in x), \"-->\", itos[y.item()])"
      ]
    },
    {
      "cell_type": "code",
      "execution_count": null,
      "metadata": {
        "id": "HhUwWXX8bHw2",
        "outputId": "9d5d20ce-180c-4178-fd22-3e7a7dcc38ff"
      },
      "outputs": [
        {
          "data": {
            "text/plain": [
              "torch.Size([1, 27])"
            ]
          },
          "execution_count": 16,
          "metadata": {},
          "output_type": "execute_result"
        }
      ],
      "source": [
        "# forward a single example:\n",
        "logits = model(Xtr[[7]])\n",
        "logits.shape"
      ]
    },
    {
      "cell_type": "code",
      "execution_count": null,
      "metadata": {
        "id": "gBDyYGUWbHw2",
        "outputId": "f288231e-6a20-4940-845f-596944950912"
      },
      "outputs": [
        {
          "data": {
            "text/plain": [
              "torch.Size([8, 27])"
            ]
          },
          "execution_count": 17,
          "metadata": {},
          "output_type": "execute_result"
        }
      ],
      "source": [
        "# forward all of them\n",
        "logits = torch.zeros(8, 27)\n",
        "for i in range(8):\n",
        "    logits[i] = model(Xtr[[7 + i]])\n",
        "logits.shape"
      ]
    },
    {
      "cell_type": "code",
      "execution_count": null,
      "metadata": {
        "id": "PCoo_TvZbHw3"
      },
      "outputs": [],
      "source": [
        "# convolution is a \"for loop\"\n",
        "# allows us to forward Linear layers efficiently over space"
      ]
    }
  ],
  "metadata": {
    "colab": {
      "provenance": []
    },
    "kernelspec": {
      "display_name": "Python 3",
      "language": "python",
      "name": "python3"
    },
    "language_info": {
      "codemirror_mode": {
        "name": "ipython",
        "version": 3
      },
      "file_extension": ".py",
      "mimetype": "text/x-python",
      "name": "python",
      "nbconvert_exporter": "python",
      "pygments_lexer": "ipython3",
      "version": "3.11.3"
    }
  },
  "nbformat": 4,
  "nbformat_minor": 0
}
