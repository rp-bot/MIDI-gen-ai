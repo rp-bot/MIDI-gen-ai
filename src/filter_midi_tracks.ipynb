{
 "cells": [
  {
   "attachments": {},
   "cell_type": "markdown",
   "metadata": {},
   "source": [
    "# Filter the midi files to obtain only the tracks with chords\n"
   ]
  },
  {
   "attachments": {},
   "cell_type": "markdown",
   "metadata": {},
   "source": [
    "#### We import necessary classes and functions from the data_cleaning local module.\n"
   ]
  },
  {
   "cell_type": "code",
   "execution_count": null,
   "metadata": {},
   "outputs": [],
   "source": [
    "from data_cleaning import Open, Stream, MakeMIDI, ChordEval\n",
    "from music21 import chord, note\n",
    "import os\n",
    "import numpy as np\n",
    "import pandas as pd\n",
    "import __init__\n"
   ]
  },
  {
   "attachments": {},
   "cell_type": "markdown",
   "metadata": {},
   "source": [
    "#### Open midi file using the open function\n"
   ]
  },
  {
   "cell_type": "code",
   "execution_count": null,
   "metadata": {},
   "outputs": [],
   "source": [
    "mid_file = os.path.join(os.getcwd(), \"0001.mid\")\n",
    "midi_data = Open.open_midi(mid_file)\n"
   ]
  },
  {
   "attachments": {},
   "cell_type": "markdown",
   "metadata": {},
   "source": [
    "#### using the MakeMIDI class, we can initiate a midi data extraction object.\n"
   ]
  },
  {
   "cell_type": "code",
   "execution_count": null,
   "metadata": {},
   "outputs": [],
   "source": [
    "parts_array = []\n",
    "for i, part in enumerate(midi_data.parts):\n",
    "    chords_array = []\n",
    "    for element in part.recurse():\n",
    "        if isinstance(element, chord.Chord):\n",
    "            chord_array = []\n",
    "            for i, n in enumerate(element):\n",
    "                chord_array.append(\n",
    "                    np.array([n.pitch, n.volume.velocity, element.offset]))\n",
    "            chords_array.append(chord_array)\n",
    "    if chords_array:\n",
    "        parts_array.append(chords_array)"
   ]
  },
  {
   "cell_type": "code",
   "execution_count": null,
   "metadata": {},
   "outputs": [],
   "source": [
    "all_parts_arr = pd.Series(parts_array)\n"
   ]
  },
  {
   "cell_type": "code",
   "execution_count": null,
   "metadata": {},
   "outputs": [],
   "source": [
    "for i, chords in enumerate(parts_array[1]):\n",
    "    print(\"chord: \", i+1)\n",
    "    for each_chord in chords:\n",
    "        print(\"midi note\", each_chord[0].ps)\n",
    "        print(\"velocity\", each_chord[1])\n",
    "        print(\"offset\", each_chord[2])\n",
    "        print(\"\")"
   ]
  }
 ],
 "metadata": {
  "kernelspec": {
   "display_name": "MIDI-gen-ai-JpLec6SW",
   "language": "python",
   "name": "python3"
  },
  "language_info": {
   "codemirror_mode": {
    "name": "ipython",
    "version": 3
   },
   "file_extension": ".py",
   "mimetype": "text/x-python",
   "name": "python",
   "nbconvert_exporter": "python",
   "pygments_lexer": "ipython3",
   "version": "3.11.3"
  },
  "orig_nbformat": 4
 },
 "nbformat": 4,
 "nbformat_minor": 2
}
