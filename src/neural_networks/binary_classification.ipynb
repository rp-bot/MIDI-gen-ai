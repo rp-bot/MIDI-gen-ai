{
 "cells": [
  {
   "attachments": {},
   "cell_type": "markdown",
   "metadata": {},
   "source": [
    "# Binary Classification\n"
   ]
  },
  {
   "attachments": {},
   "cell_type": "markdown",
   "metadata": {},
   "source": [
    "## Notation\n",
    "\n",
    "$(x,y) \\quad x \\in \\mathbb{R}^{n_x}, \\quad y \\in \\{0,1\\}$\n",
    "\n",
    "${m \\quad training \\quad examples}: \\{({x}^{(1)},{y}^{(1)} ),({x}^{(2)},{y}^{(2)}),...,({x}^{(m)},{y}^{(m)} )\\}$\n"
   ]
  },
  {
   "cell_type": "code",
   "execution_count": null,
   "metadata": {},
   "outputs": [],
   "source": []
  }
 ],
 "metadata": {
  "language_info": {
   "name": "python"
  },
  "orig_nbformat": 4
 },
 "nbformat": 4,
 "nbformat_minor": 2
}
