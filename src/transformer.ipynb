{
 "cells": [
  {
   "cell_type": "code",
   "execution_count": 1,
   "metadata": {},
   "outputs": [],
   "source": [
    "from data_cleaning import Open, Stream, MakeMIDI, ChordEval\n",
    "from music21 import chord, note, stream, clef, meter\n",
    "import os\n",
    "import numpy as np\n",
    "import torch"
   ]
  },
  {
   "cell_type": "code",
   "execution_count": 2,
   "metadata": {},
   "outputs": [],
   "source": [
    "mid_file1 = os.path.join(os.getcwd(), \"progression1.mid\")\n",
    "midi_data1 = Open.open_midi(mid_file1)\n",
    "mid_file2 = os.path.join(os.getcwd(), \"progression2.mid\")\n",
    "midi_data2 = Open.open_midi(mid_file2)"
   ]
  },
  {
   "cell_type": "code",
   "execution_count": 24,
   "metadata": {},
   "outputs": [],
   "source": [
    "mid_file_offset = os.path.join(os.getcwd(), \"offset chord.mid\")\n",
    "midi_data_offset = Open.open_midi(mid_file_offset)"
   ]
  },
  {
   "cell_type": "code",
   "execution_count": 3,
   "metadata": {},
   "outputs": [],
   "source": [
    "concatenated_array = []"
   ]
  },
  {
   "cell_type": "code",
   "execution_count": 5,
   "metadata": {},
   "outputs": [],
   "source": [
    "for i, part in enumerate(midi_data2.parts):\n",
    "    for element in part.recurse():\n",
    "        if isinstance(element, chord.Chord):\n",
    "            concatenated_array.append(element)"
   ]
  },
  {
   "cell_type": "code",
   "execution_count": 6,
   "metadata": {},
   "outputs": [],
   "source": [
    "all_chords = []\n",
    "for chord in concatenated_array:\n",
    "    chord_arr = []\n",
    "    for notes in chord:\n",
    "        chord_arr.append(notes.pitch.ps)\n",
    "    all_chords.append(chord_arr)"
   ]
  },
  {
   "cell_type": "code",
   "execution_count": 37,
   "metadata": {},
   "outputs": [
    {
     "data": {
      "text/plain": [
       "186"
      ]
     },
     "execution_count": 37,
     "metadata": {},
     "output_type": "execute_result"
    }
   ],
   "source": [
    "len(all_chords)"
   ]
  },
  {
   "cell_type": "code",
   "execution_count": 43,
   "metadata": {},
   "outputs": [
    {
     "data": {
      "text/plain": [
       "6"
      ]
     },
     "execution_count": 43,
     "metadata": {},
     "output_type": "execute_result"
    }
   ],
   "source": [
    "max(len(chord) for chord in all_chords)"
   ]
  },
  {
   "cell_type": "code",
   "execution_count": 44,
   "metadata": {},
   "outputs": [
    {
     "data": {
      "text/plain": [
       "3"
      ]
     },
     "execution_count": 44,
     "metadata": {},
     "output_type": "execute_result"
    }
   ],
   "source": [
    "min(len(chord) for chord in all_chords)"
   ]
  },
  {
   "cell_type": "code",
   "execution_count": null,
   "metadata": {},
   "outputs": [],
   "source": [
    "sorted(b.items(), key=lambda kv: -kv[1])"
   ]
  },
  {
   "cell_type": "code",
   "execution_count": 7,
   "metadata": {},
   "outputs": [],
   "source": [
    "N = torch.zeros((129, 129), dtype=torch.int32)"
   ]
  },
  {
   "cell_type": "code",
   "execution_count": 8,
   "metadata": {},
   "outputs": [],
   "source": [
    "flattened_list = [int(element) for sublist in all_chords for element in sublist]"
   ]
  },
  {
   "cell_type": "code",
   "execution_count": 51,
   "metadata": {},
   "outputs": [],
   "source": [
    "notes = sorted(set(flattened_list))"
   ]
  },
  {
   "cell_type": "code",
   "execution_count": 52,
   "metadata": {},
   "outputs": [
    {
     "data": {
      "text/plain": [
       "23"
      ]
     },
     "execution_count": 52,
     "metadata": {},
     "output_type": "execute_result"
    }
   ],
   "source": [
    "len(notes)"
   ]
  },
  {
   "cell_type": "code",
   "execution_count": 57,
   "metadata": {},
   "outputs": [],
   "source": [
    "n_to_i = {s: s for i, s in enumerate(notes)}\n",
    "n_to_i[\".\"] = 128"
   ]
  },
  {
   "cell_type": "code",
   "execution_count": 63,
   "metadata": {},
   "outputs": [
    {
     "name": "stdout",
     "output_type": "stream",
     "text": [
      "{36: 'C2', 40: 'E2', 41: 'F2', 43: 'G2', 45: 'A2', 47: 'B2', 48: 'C3', 50: 'D3', 52: 'E3', 53: 'F3', 55: 'G3', 57: 'A3', 58: 'B-3', 59: 'B3', 60: 'C4', 62: 'D4', 63: 'E-4', 64: 'E4', 65: 'F4', 67: 'G4', 69: 'A4', 71: 'B4', 72: 'C5', 128: '.'}\n"
     ]
    }
   ],
   "source": [
    "i_to_n = {}\n",
    "\n",
    "for n in notes:\n",
    "    n_temp = note.Note(n)\n",
    "    i_to_n[n] = n_temp.nameWithOctave\n",
    "\n",
    "i_to_n[128] = \".\"\n",
    "print(i_to_n)"
   ]
  },
  {
   "cell_type": "code",
   "execution_count": 64,
   "metadata": {},
   "outputs": [
    {
     "data": {
      "text/plain": [
       "({36: 36,\n",
       "  40: 40,\n",
       "  41: 41,\n",
       "  43: 43,\n",
       "  45: 45,\n",
       "  47: 47,\n",
       "  48: 48,\n",
       "  50: 50,\n",
       "  52: 52,\n",
       "  53: 53,\n",
       "  55: 55,\n",
       "  57: 57,\n",
       "  58: 58,\n",
       "  59: 59,\n",
       "  60: 60,\n",
       "  62: 62,\n",
       "  63: 63,\n",
       "  64: 64,\n",
       "  65: 65,\n",
       "  67: 67,\n",
       "  69: 69,\n",
       "  71: 71,\n",
       "  72: 72,\n",
       "  '.': 128},\n",
       " {36: 'C2',\n",
       "  40: 'E2',\n",
       "  41: 'F2',\n",
       "  43: 'G2',\n",
       "  45: 'A2',\n",
       "  47: 'B2',\n",
       "  48: 'C3',\n",
       "  50: 'D3',\n",
       "  52: 'E3',\n",
       "  53: 'F3',\n",
       "  55: 'G3',\n",
       "  57: 'A3',\n",
       "  58: 'B-3',\n",
       "  59: 'B3',\n",
       "  60: 'C4',\n",
       "  62: 'D4',\n",
       "  63: 'E-4',\n",
       "  64: 'E4',\n",
       "  65: 'F4',\n",
       "  67: 'G4',\n",
       "  69: 'A4',\n",
       "  71: 'B4',\n",
       "  72: 'C5',\n",
       "  128: '.'})"
      ]
     },
     "execution_count": 64,
     "metadata": {},
     "output_type": "execute_result"
    }
   ],
   "source": [
    "n_to_i, i_to_n"
   ]
  },
  {
   "cell_type": "code",
   "execution_count": 12,
   "metadata": {},
   "outputs": [],
   "source": [
    "for chord in all_chords:\n",
    "    c_bigram = [\".\"] + chord + [\".\"]\n",
    "    for c1, c2 in zip(c_bigram, c_bigram[1:]):\n",
    "        ix1 = ntoi[c1]\n",
    "        ix2 = ntoi[c2]\n",
    "        N[ix1, ix2] += 1"
   ]
  },
  {
   "cell_type": "code",
   "execution_count": 13,
   "metadata": {},
   "outputs": [
    {
     "data": {
      "text/plain": [
       "<matplotlib.image.AxesImage at 0x1bb5109cbd0>"
      ]
     },
     "execution_count": 13,
     "metadata": {},
     "output_type": "execute_result"
    },
    {
     "data": {
      "image/png": "[encoded data removed]",
      "text/plain": [
       "<Figure size 640x480 with 1 Axes>"
      ]
     },
     "metadata": {
      "image/png": {
       "height": 417,
       "width": 425
      }
     },
     "output_type": "display_data"
    }
   ],
   "source": [
    "import matplotlib.pyplot as plt\n",
    "\n",
    "plt.imshow(N)"
   ]
  },
  {
   "attachments": {},
   "cell_type": "markdown",
   "metadata": {},
   "source": [
    "# Sample the probabilities\n"
   ]
  },
  {
   "cell_type": "code",
   "execution_count": 28,
   "metadata": {},
   "outputs": [],
   "source": [
    "P = N.float()\n",
    "P /= P.sum(1, keepdim=True)"
   ]
  },
  {
   "cell_type": "code",
   "execution_count": 30,
   "metadata": {},
   "outputs": [
    {
     "name": "stdout",
     "output_type": "stream",
     "text": [
      "E3\n",
      "A3\n",
      "C4\n",
      "F4\n",
      "__\n",
      "C3\n",
      "G3\n",
      "C4\n",
      "E4\n",
      "__\n",
      "A2\n",
      "A3\n",
      "C4\n",
      "D4\n",
      "__\n",
      "F2\n",
      "A3\n",
      "__\n"
     ]
    }
   ],
   "source": [
    "g = torch.Generator().manual_seed(57485)\n",
    "midi_n = 0\n",
    "numofc = 0\n",
    "while True:\n",
    "    p = P[midi_n]\n",
    "    if not torch.isnan(p).any().item():\n",
    "        midi_n = torch.multinomial(\n",
    "            p, num_samples=1, replacement=True, generator=g\n",
    "        ).item()\n",
    "        if not midi_n == 128:\n",
    "            new_note = note.Note(midi_n)\n",
    "            print(new_note.pitch)\n",
    "    else:\n",
    "        midi_n += 1\n",
    "    if midi_n == 128:\n",
    "        print(\"__\")\n",
    "        numofc += 1\n",
    "        if numofc == 4:\n",
    "            break"
   ]
  },
  {
   "attachments": {},
   "cell_type": "markdown",
   "metadata": {},
   "source": [
    "# Evaluating the Quality of the model\n"
   ]
  },
  {
   "cell_type": "code",
   "execution_count": 40,
   "metadata": {},
   "outputs": [
    {
     "name": "stdout",
     "output_type": "stream",
     "text": [
      "tensor(1.0509)\n"
     ]
    }
   ],
   "source": [
    "log_likelihood = 0.0\n",
    "n = 0\n",
    "for chord in all_chords:\n",
    "    c_bigram = [\".\"] + chord + [\".\"]\n",
    "    for c1, c2 in zip(c_bigram, c_bigram[1:]):\n",
    "        ix1 = ntoi[c1]\n",
    "        ix2 = ntoi[c2]\n",
    "        p = P[ix1, ix2]\n",
    "        logprob = torch.log(p)\n",
    "        log_likelihood += logprob\n",
    "        n += 1\n",
    "\n",
    "nll = -log_likelihood\n",
    "# nll/=n\n",
    "print(nll / n)"
   ]
  },
  {
   "attachments": {},
   "cell_type": "markdown",
   "metadata": {},
   "source": [
    "# Making a Neural Network\n"
   ]
  },
  {
   "attachments": {},
   "cell_type": "markdown",
   "metadata": {},
   "source": [
    "## Creating a training set\n"
   ]
  },
  {
   "cell_type": "code",
   "execution_count": 66,
   "metadata": {},
   "outputs": [],
   "source": [
    "xs, ys = [], []\n",
    "\n",
    "for c in all_chords[:1]:\n",
    "    ns = [\".\"] + c + [\".\"]\n",
    "    for n1, n2 in zip(ns, ns[1:]):\n",
    "        ix1 = ntoi[n1]\n",
    "        ix2 = ntoi[n2]\n",
    "        xs.append(ix1)\n",
    "        ys.append(ix2)\n",
    "\n",
    "xs = torch.tensor(xs)\n",
    "ys = torch.tensor(ys)"
   ]
  },
  {
   "cell_type": "code",
   "execution_count": 67,
   "metadata": {},
   "outputs": [
    {
     "data": {
      "text/plain": [
       "(tensor([128,  48,  55,  60,  62,  64]),\n",
       " tensor([ 48,  55,  60,  62,  64, 128]))"
      ]
     },
     "execution_count": 67,
     "metadata": {},
     "output_type": "execute_result"
    }
   ],
   "source": [
    "xs, ys"
   ]
  },
  {
   "attachments": {},
   "cell_type": "markdown",
   "metadata": {},
   "source": [
    "## One Hot Encoding\n"
   ]
  },
  {
   "cell_type": "code",
   "execution_count": 82,
   "metadata": {},
   "outputs": [],
   "source": [
    "import torch.nn.functional as F\n",
    "\n",
    "xenc = F.one_hot(xs, num_classes=129).float()\n",
    "yenc = F.one_hot(ys, num_classes=129).float()"
   ]
  },
  {
   "cell_type": "code",
   "execution_count": null,
   "metadata": {},
   "outputs": [],
   "source": [
    "xenc, yenc"
   ]
  },
  {
   "cell_type": "code",
   "execution_count": 89,
   "metadata": {},
   "outputs": [],
   "source": [
    "W = torch.randn((129, 129))\n",
    "logits = xenc @ W\n",
    "counts = logits.exp()\n",
    "probs = counts / counts.sum(1, keepdims=True)"
   ]
  },
  {
   "cell_type": "code",
   "execution_count": 99,
   "metadata": {},
   "outputs": [
    {
     "data": {
      "text/plain": [
       "tensor([0.0075, 0.0015, 0.0087, 0.0087, 0.0010, 0.0280, 0.0010, 0.0025, 0.0052,\n",
       "        0.0142, 0.0263, 0.0026, 0.0012, 0.0046, 0.0025, 0.0029, 0.0050, 0.0030,\n",
       "        0.0171, 0.0091, 0.0032, 0.0030, 0.0084, 0.0145, 0.0209, 0.0035, 0.0211,\n",
       "        0.0078, 0.0018, 0.0031, 0.0029, 0.0126, 0.0053, 0.0037, 0.0037, 0.0051,\n",
       "        0.0014, 0.0044, 0.0369, 0.0025, 0.0068, 0.0021, 0.0018, 0.0217, 0.0048,\n",
       "        0.0099, 0.0509, 0.0064, 0.0013, 0.0046, 0.0039, 0.0056, 0.0067, 0.0051,\n",
       "        0.0051, 0.0019, 0.0154, 0.0083, 0.0029, 0.0079, 0.0048, 0.0042, 0.0021,\n",
       "        0.0038, 0.0074, 0.0012, 0.0153, 0.0110, 0.0022, 0.0048, 0.0132, 0.0162,\n",
       "        0.0032, 0.0154, 0.0043, 0.0019, 0.0002, 0.0292, 0.0002, 0.0073, 0.0111,\n",
       "        0.0007, 0.0142, 0.0051, 0.0056, 0.0026, 0.0100, 0.0068, 0.0070, 0.0019,\n",
       "        0.0040, 0.0023, 0.0150, 0.0068, 0.0072, 0.0168, 0.0081, 0.0008, 0.0014,\n",
       "        0.0039, 0.0016, 0.0028, 0.0033, 0.0307, 0.0012, 0.0033, 0.0069, 0.0114,\n",
       "        0.0028, 0.0240, 0.0003, 0.0036, 0.0050, 0.0036, 0.0119, 0.0032, 0.0005,\n",
       "        0.0019, 0.0073, 0.0105, 0.0066, 0.0066, 0.0068, 0.0056, 0.0131, 0.0281,\n",
       "        0.0056, 0.0114, 0.0095])"
      ]
     },
     "execution_count": 99,
     "metadata": {},
     "output_type": "execute_result"
    }
   ],
   "source": [
    "probs[0]"
   ]
  },
  {
   "cell_type": "code",
   "execution_count": 98,
   "metadata": {},
   "outputs": [
    {
     "data": {
      "text/plain": [
       "tensor(0.0509)"
      ]
     },
     "execution_count": 98,
     "metadata": {},
     "output_type": "execute_result"
    }
   ],
   "source": [
    "probs[0].max()"
   ]
  },
  {
   "cell_type": "code",
   "execution_count": 78,
   "metadata": {},
   "outputs": [
    {
     "data": {
      "text/plain": [
       "<matplotlib.image.AxesImage at 0x1bb55c15010>"
      ]
     },
     "execution_count": 78,
     "metadata": {},
     "output_type": "execute_result"
    },
    {
     "data": {
      "image/png": "[encoded data removed]",
      "text/plain": [
       "<Figure size 640x480 with 1 Axes>"
      ]
     },
     "metadata": {
      "image/png": {
       "height": 70,
       "width": 534
      }
     },
     "output_type": "display_data"
    }
   ],
   "source": [
    "plt.imshow(yenc)"
   ]
  },
  {
   "attachments": {},
   "cell_type": "markdown",
   "metadata": {},
   "source": [
    "# Finding all types of elements in a part\n"
   ]
  },
  {
   "cell_type": "code",
   "execution_count": 22,
   "metadata": {},
   "outputs": [
    {
     "name": "stdout",
     "output_type": "stream",
     "text": [
      "0 <music21.stream.Measure 1 offset=0.0>\n",
      "2 <music21.clef.TrebleClef>\n",
      "3 <music21.meter.TimeSignature 4/4>\n",
      "CHord [[60.0, 102, 1.0, 'quarter', 0.0], [65.0, 102, 1.0, 'quarter', 0.0]]\n",
      "5 <music21.stream.Measure 2 offset=4.0>\n",
      "6 <music21.note.Rest quarter>\n",
      "CHord [[60.0, 100, 1.0, 'quarter', 0.0], [67.0, 102, 1.0, 'quarter', 0.0]]\n",
      "8 <music21.note.Rest dotted-eighth>\n"
     ]
    }
   ],
   "source": [
    "for part in midi_data_offset.parts:\n",
    "    chords_array = []\n",
    "    for idx, element in enumerate(part.recurse()):\n",
    "        if isinstance(element, stream.Measure):\n",
    "            print(idx, element)\n",
    "        elif isinstance(element, clef.TrebleClef):\n",
    "            print(idx, element)\n",
    "        elif isinstance(element, meter.TimeSignature):\n",
    "            print(idx, element)\n",
    "        elif isinstance(element, chord.Chord):\n",
    "            print(\n",
    "                \"CHord\",\n",
    "                [\n",
    "                    [\n",
    "                        n.pitch.ps,\n",
    "                        n.volume.velocity,\n",
    "                        n.duration.quarterLength,\n",
    "                        n.duration.type,\n",
    "                        n.offset,\n",
    "                    ]\n",
    "                    for n in element.notes\n",
    "                ],\n",
    "            )\n",
    "        elif isinstance(element, note.Rest):\n",
    "            print(idx, element)"
   ]
  },
  {
   "cell_type": "code",
   "execution_count": 184,
   "metadata": {},
   "outputs": [
    {
     "name": "stdout",
     "output_type": "stream",
     "text": [
      "0 <music21.stream.Measure 1 offset=0.0>\n",
      "1 \n",
      "2 <music21.clef.TrebleClef>\n",
      "3 <music21.meter.TimeSignature 4/4>\n",
      "4 <music21.chord.Chord C4 F4>\n",
      "5 <music21.stream.Measure 2 offset=4.0>\n",
      "6 <music21.note.Rest quarter>\n",
      "7 <music21.chord.Chord C4 G4>\n",
      "8 <music21.note.Rest dotted-eighth>\n",
      "9 <music21.bar.Barline type=final>\n"
     ]
    }
   ],
   "source": [
    "for i, part in enumerate(midi_data_offset.parts):\n",
    "    chords_array = []\n",
    "    for idx, element in enumerate(part.recurse()):\n",
    "        print(idx, element)\n",
    "        if isinstance(element, chord.Chord):\n",
    "            # if isinstance(part.recurse()[idx-1],)\n",
    "            chord_array = [element]\n",
    "            # for i, n in enumerate(element):\n",
    "            #     chord_array.append(\n",
    "            #         [int(n.pitch.ps), n.volume.velocity, n.duration.quarterLength, n.offset, 0])\n",
    "            chords_array.append(chord_array)\n",
    "    if chords_array:\n",
    "        concatenated_array.append(chords_array)"
   ]
  },
  {
   "cell_type": "code",
   "execution_count": 185,
   "metadata": {},
   "outputs": [
    {
     "data": {
      "text/plain": [
       "[[[<music21.chord.Chord C4 F4>], [<music21.chord.Chord C4 G4>]]]"
      ]
     },
     "execution_count": 185,
     "metadata": {},
     "output_type": "execute_result"
    }
   ],
   "source": [
    "concatenated_array"
   ]
  },
  {
   "attachments": {},
   "cell_type": "markdown",
   "metadata": {},
   "source": [
    "# Outputting a MIDI file\n"
   ]
  },
  {
   "cell_type": "code",
   "execution_count": 158,
   "metadata": {},
   "outputs": [],
   "source": [
    "s = stream.Score()"
   ]
  },
  {
   "cell_type": "code",
   "execution_count": 166,
   "metadata": {},
   "outputs": [],
   "source": [
    "for each_file in concatenated_array:\n",
    "    for chords in each_file:\n",
    "        chord_arr = []\n",
    "        for each_chord in chords:\n",
    "            n = note.Note(each_chord[0])\n",
    "            n.volume.velocity = each_chord[1]\n",
    "            n.duration.quarterLength = each_chord[2]\n",
    "            n.offset = each_chord[3]\n",
    "            chord_arr.append(n)\n",
    "\n",
    "        c = chord.Chord(chord_arr)\n",
    "        s.append(c)"
   ]
  },
  {
   "cell_type": "code",
   "execution_count": 167,
   "metadata": {},
   "outputs": [
    {
     "data": {
      "text/plain": [
       "<music21.stream.Score 0x1ef6dc803d0>"
      ]
     },
     "execution_count": 167,
     "metadata": {},
     "output_type": "execute_result"
    }
   ],
   "source": [
    "s"
   ]
  },
  {
   "cell_type": "code",
   "execution_count": 168,
   "metadata": {},
   "outputs": [
    {
     "data": {
      "text/plain": [
       "'output_file.mid'"
      ]
     },
     "execution_count": 168,
     "metadata": {},
     "output_type": "execute_result"
    }
   ],
   "source": [
    "s.write(\"midi\", \"output_file.mid\")"
   ]
  }
 ],
 "metadata": {
  "kernelspec": {
   "display_name": "MIDI-gen-ai-JpLec6SW",
   "language": "python",
   "name": "python3"
  },
  "language_info": {
   "codemirror_mode": {
    "name": "ipython",
    "version": 3
   },
   "file_extension": ".py",
   "mimetype": "text/x-python",
   "name": "python",
   "nbconvert_exporter": "python",
   "pygments_lexer": "ipython3",
   "version": "3.11.3"
  },
  "orig_nbformat": 4
 },
 "nbformat": 4,
 "nbformat_minor": 2
}
