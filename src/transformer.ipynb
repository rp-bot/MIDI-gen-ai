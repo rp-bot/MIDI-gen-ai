{
 "cells": [
  {
   "cell_type": "code",
   "execution_count": 31,
   "metadata": {},
   "outputs": [],
   "source": [
    "from data_cleaning import Open, Stream, MakeMIDI, ChordEval\n",
    "from music21 import chord, note, stream, clef, meter\n",
    "import os\n",
    "import numpy as np\n",
    "import torch"
   ]
  },
  {
   "cell_type": "code",
   "execution_count": 32,
   "metadata": {},
   "outputs": [],
   "source": [
    "mid_file1 = os.path.join(os.getcwd(), \"progression1.mid\")\n",
    "midi_data1 = Open.open_midi(mid_file1)\n",
    "mid_file2 = os.path.join(os.getcwd(), \"progression2.mid\")\n",
    "midi_data2 = Open.open_midi(mid_file2)"
   ]
  },
  {
   "cell_type": "code",
   "execution_count": 24,
   "metadata": {},
   "outputs": [],
   "source": [
    "mid_file_offset = os.path.join(os.getcwd(), \"offset chord.mid\")\n",
    "midi_data_offset = Open.open_midi(mid_file_offset)"
   ]
  },
  {
   "cell_type": "code",
   "execution_count": 33,
   "metadata": {},
   "outputs": [],
   "source": [
    "concatenated_array = []"
   ]
  },
  {
   "cell_type": "code",
   "execution_count": 35,
   "metadata": {},
   "outputs": [],
   "source": [
    "for i, part in enumerate(midi_data2.parts):\n",
    "    for element in part.recurse():\n",
    "        if isinstance(element, chord.Chord):\n",
    "            concatenated_array.append(element)"
   ]
  },
  {
   "cell_type": "code",
   "execution_count": 36,
   "metadata": {},
   "outputs": [],
   "source": [
    "all_chords = []\n",
    "for chord in concatenated_array:\n",
    "    chord_arr = []\n",
    "    for notes in chord:\n",
    "        chord_arr.append(notes.pitch.ps)\n",
    "    all_chords.append(chord_arr)"
   ]
  },
  {
   "cell_type": "code",
   "execution_count": 37,
   "metadata": {},
   "outputs": [
    {
     "data": {
      "text/plain": [
       "186"
      ]
     },
     "execution_count": 37,
     "metadata": {},
     "output_type": "execute_result"
    }
   ],
   "source": [
    "len(all_chords)"
   ]
  },
  {
   "cell_type": "code",
   "execution_count": 43,
   "metadata": {},
   "outputs": [
    {
     "data": {
      "text/plain": [
       "6"
      ]
     },
     "execution_count": 43,
     "metadata": {},
     "output_type": "execute_result"
    }
   ],
   "source": [
    "max(len(chord) for chord in all_chords)"
   ]
  },
  {
   "cell_type": "code",
   "execution_count": 44,
   "metadata": {},
   "outputs": [
    {
     "data": {
      "text/plain": [
       "3"
      ]
     },
     "execution_count": 44,
     "metadata": {},
     "output_type": "execute_result"
    }
   ],
   "source": [
    "min(len(chord) for chord in all_chords)"
   ]
  },
  {
   "cell_type": "code",
   "execution_count": null,
   "metadata": {},
   "outputs": [],
   "source": [
    "sorted(b.items(), key=lambda kv: -kv[1])"
   ]
  },
  {
   "cell_type": "code",
   "execution_count": 38,
   "metadata": {},
   "outputs": [],
   "source": [
    "N = torch.zeros((129, 129), dtype=torch.int32)"
   ]
  },
  {
   "cell_type": "code",
   "execution_count": 39,
   "metadata": {},
   "outputs": [],
   "source": [
    "flattened_list = [int(element) for sublist in all_chords for element in sublist]"
   ]
  },
  {
   "cell_type": "code",
   "execution_count": 40,
   "metadata": {},
   "outputs": [],
   "source": [
    "notes = sorted(set(flattened_list))"
   ]
  },
  {
   "cell_type": "code",
   "execution_count": 41,
   "metadata": {},
   "outputs": [
    {
     "data": {
      "text/plain": [
       "23"
      ]
     },
     "execution_count": 41,
     "metadata": {},
     "output_type": "execute_result"
    }
   ],
   "source": [
    "len(notes)"
   ]
  },
  {
   "cell_type": "code",
   "execution_count": 42,
   "metadata": {},
   "outputs": [],
   "source": [
    "ntoi = {s: s for i, s in enumerate(notes)}\n",
    "ntoi[\".\"] = 128"
   ]
  },
  {
   "cell_type": "code",
   "execution_count": null,
   "metadata": {},
   "outputs": [],
   "source": [
    "ntoi"
   ]
  },
  {
   "cell_type": "code",
   "execution_count": 44,
   "metadata": {},
   "outputs": [],
   "source": [
    "for chord in all_chords:\n",
    "    c_bigram = [\".\"] + chord + [\".\"]\n",
    "    for c1, c2 in zip(c_bigram, c_bigram[1:]):\n",
    "        ix1 = ntoi[c1]\n",
    "        ix2 = ntoi[c2]\n",
    "        N[ix1, ix2] += 1"
   ]
  },
  {
   "cell_type": "code",
   "execution_count": 45,
   "metadata": {},
   "outputs": [
    {
     "data": {
      "text/plain": [
       "<matplotlib.image.AxesImage at 0x1712e874d10>"
      ]
     },
     "execution_count": 45,
     "metadata": {},
     "output_type": "execute_result"
    },
    {
     "data": {
      "image/png": "[encoded data removed]",
      "text/plain": [
       "<Figure size 640x480 with 1 Axes>"
      ]
     },
     "metadata": {
      "image/png": {
       "height": 417,
       "width": 425
      }
     },
     "output_type": "display_data"
    }
   ],
   "source": [
    "import matplotlib.pyplot as plt\n",
    "\n",
    "plt.imshow(N)"
   ]
  },
  {
   "attachments": {},
   "cell_type": "markdown",
   "metadata": {},
   "source": [
    "# Sample the probabilities\n"
   ]
  },
  {
   "cell_type": "code",
   "execution_count": 49,
   "metadata": {},
   "outputs": [],
   "source": [
    "P = N.float()\n",
    "P=P/P.sum(1, keepdim=True)"
   ]
  },
  {
   "cell_type": "code",
   "execution_count": 50,
   "metadata": {},
   "outputs": [
    {
     "name": "stdout",
     "output_type": "stream",
     "text": [
      "E3\n",
      "C4\n",
      "__\n",
      "C3\n",
      "F3\n",
      "A3\n",
      "C4\n",
      "E4\n",
      "__\n",
      "A2\n",
      "A3\n",
      "C4\n",
      "E4\n",
      "__\n",
      "F2\n",
      "A3\n",
      "C4\n",
      "E4\n",
      "__\n"
     ]
    }
   ],
   "source": [
    "g = torch.Generator().manual_seed(948376575)\n",
    "midi_n = 0\n",
    "numofc = 0\n",
    "while True:\n",
    "\n",
    "    p = P[midi_n]\n",
    "    # p=torch.ones(128)/128\n",
    "    if not torch.isnan(p).any().item():\n",
    "        midi_n = torch.multinomial(\n",
    "            p, num_samples=1, replacement=True, generator=g).item()\n",
    "        if not midi_n == 128:\n",
    "            new_note = note.Note(midi_n)\n",
    "            print(new_note.pitch)\n",
    "    else:\n",
    "        midi_n += 1\n",
    "    if midi_n == 128:\n",
    "        print(\"__\")\n",
    "        numofc += 1\n",
    "        if numofc == 4:\n",
    "            break"
   ]
  },
  {
   "attachments": {},
   "cell_type": "markdown",
   "metadata": {},
   "source": [
    "# Finding all types of elements in a part\n"
   ]
  },
  {
   "cell_type": "code",
   "execution_count": 22,
   "metadata": {},
   "outputs": [
    {
     "name": "stdout",
     "output_type": "stream",
     "text": [
      "0 <music21.stream.Measure 1 offset=0.0>\n",
      "2 <music21.clef.TrebleClef>\n",
      "3 <music21.meter.TimeSignature 4/4>\n",
      "CHord [[60.0, 102, 1.0, 'quarter', 0.0], [65.0, 102, 1.0, 'quarter', 0.0]]\n",
      "5 <music21.stream.Measure 2 offset=4.0>\n",
      "6 <music21.note.Rest quarter>\n",
      "CHord [[60.0, 100, 1.0, 'quarter', 0.0], [67.0, 102, 1.0, 'quarter', 0.0]]\n",
      "8 <music21.note.Rest dotted-eighth>\n"
     ]
    }
   ],
   "source": [
    "for part in midi_data_offset.parts:\n",
    "    chords_array = []\n",
    "    for idx, element in enumerate(part.recurse()):\n",
    "        if isinstance(element, stream.Measure):\n",
    "            print(idx, element)\n",
    "        elif isinstance(element, clef.TrebleClef):\n",
    "            print(idx, element)\n",
    "        elif isinstance(element, meter.TimeSignature):\n",
    "            print(idx, element)\n",
    "        elif isinstance(element, chord.Chord):\n",
    "            print(\n",
    "                \"CHord\",\n",
    "                [\n",
    "                    [\n",
    "                        n.pitch.ps,\n",
    "                        n.volume.velocity,\n",
    "                        n.duration.quarterLength,\n",
    "                        n.duration.type,\n",
    "                        n.offset,\n",
    "                    ]\n",
    "                    for n in element.notes\n",
    "                ],\n",
    "            )\n",
    "        elif isinstance(element, note.Rest):\n",
    "            print(idx, element)"
   ]
  },
  {
   "cell_type": "code",
   "execution_count": 184,
   "metadata": {},
   "outputs": [
    {
     "name": "stdout",
     "output_type": "stream",
     "text": [
      "0 <music21.stream.Measure 1 offset=0.0>\n",
      "1 \n",
      "2 <music21.clef.TrebleClef>\n",
      "3 <music21.meter.TimeSignature 4/4>\n",
      "4 <music21.chord.Chord C4 F4>\n",
      "5 <music21.stream.Measure 2 offset=4.0>\n",
      "6 <music21.note.Rest quarter>\n",
      "7 <music21.chord.Chord C4 G4>\n",
      "8 <music21.note.Rest dotted-eighth>\n",
      "9 <music21.bar.Barline type=final>\n"
     ]
    }
   ],
   "source": [
    "for i, part in enumerate(midi_data_offset.parts):\n",
    "    chords_array = []\n",
    "    for idx, element in enumerate(part.recurse()):\n",
    "        print(idx, element)\n",
    "        if isinstance(element, chord.Chord):\n",
    "            # if isinstance(part.recurse()[idx-1],)\n",
    "            chord_array = [element]\n",
    "            # for i, n in enumerate(element):\n",
    "            #     chord_array.append(\n",
    "            #         [int(n.pitch.ps), n.volume.velocity, n.duration.quarterLength, n.offset, 0])\n",
    "            chords_array.append(chord_array)\n",
    "    if chords_array:\n",
    "        concatenated_array.append(chords_array)"
   ]
  },
  {
   "cell_type": "code",
   "execution_count": 185,
   "metadata": {},
   "outputs": [
    {
     "data": {
      "text/plain": [
       "[[[<music21.chord.Chord C4 F4>], [<music21.chord.Chord C4 G4>]]]"
      ]
     },
     "execution_count": 185,
     "metadata": {},
     "output_type": "execute_result"
    }
   ],
   "source": [
    "concatenated_array"
   ]
  },
  {
   "attachments": {},
   "cell_type": "markdown",
   "metadata": {},
   "source": [
    "# Outputting a MIDI file\n"
   ]
  },
  {
   "cell_type": "code",
   "execution_count": 158,
   "metadata": {},
   "outputs": [],
   "source": [
    "s = stream.Score()"
   ]
  },
  {
   "cell_type": "code",
   "execution_count": 166,
   "metadata": {},
   "outputs": [],
   "source": [
    "for each_file in concatenated_array:\n",
    "    for chords in each_file:\n",
    "        chord_arr = []\n",
    "        for each_chord in chords:\n",
    "            n = note.Note(each_chord[0])\n",
    "            n.volume.velocity = each_chord[1]\n",
    "            n.duration.quarterLength = each_chord[2]\n",
    "            n.offset = each_chord[3]\n",
    "            chord_arr.append(n)\n",
    "\n",
    "        c = chord.Chord(chord_arr)\n",
    "        s.append(c)"
   ]
  },
  {
   "cell_type": "code",
   "execution_count": 167,
   "metadata": {},
   "outputs": [
    {
     "data": {
      "text/plain": [
       "<music21.stream.Score 0x1ef6dc803d0>"
      ]
     },
     "execution_count": 167,
     "metadata": {},
     "output_type": "execute_result"
    }
   ],
   "source": [
    "s"
   ]
  },
  {
   "cell_type": "code",
   "execution_count": 168,
   "metadata": {},
   "outputs": [
    {
     "data": {
      "text/plain": [
       "'output_file.mid'"
      ]
     },
     "execution_count": 168,
     "metadata": {},
     "output_type": "execute_result"
    }
   ],
   "source": [
    "s.write(\"midi\", \"output_file.mid\")"
   ]
  }
 ],
 "metadata": {
  "kernelspec": {
   "display_name": "MIDI-gen-ai-JpLec6SW",
   "language": "python",
   "name": "python3"
  },
  "language_info": {
   "codemirror_mode": {
    "name": "ipython",
    "version": 3
   },
   "file_extension": ".py",
   "mimetype": "text/x-python",
   "name": "python",
   "nbconvert_exporter": "python",
   "pygments_lexer": "ipython3",
   "version": "3.11.3"
  },
  "orig_nbformat": 4
 },
 "nbformat": 4,
 "nbformat_minor": 2
}
