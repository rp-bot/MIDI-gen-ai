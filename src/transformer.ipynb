{
 "cells": [
  {
   "cell_type": "code",
   "execution_count": 198,
   "metadata": {},
   "outputs": [],
   "source": [
    "from data_cleaning import Open, Stream, MakeMIDI, ChordEval\n",
    "from music21 import chord, note, stream, clef, meter\n",
    "import os\n",
    "import numpy as np\n",
    "import torch"
   ]
  },
  {
   "cell_type": "code",
   "execution_count": 2,
   "metadata": {},
   "outputs": [],
   "source": [
    "mid_file1 = os.path.join(os.getcwd(), \"progression1.mid\")\n",
    "midi_data1 = Open.open_midi(mid_file1)\n",
    "mid_file2 = os.path.join(os.getcwd(), \"progression2.mid\")\n",
    "midi_data2 = Open.open_midi(mid_file2)"
   ]
  },
  {
   "cell_type": "code",
   "execution_count": 24,
   "metadata": {},
   "outputs": [],
   "source": [
    "mid_file_offset = os.path.join(os.getcwd(), \"offset chord.mid\")\n",
    "midi_data_offset = Open.open_midi(mid_file_offset)"
   ]
  },
  {
   "cell_type": "code",
   "execution_count": 3,
   "metadata": {},
   "outputs": [],
   "source": [
    "concatenated_array = []"
   ]
  },
  {
   "cell_type": "code",
   "execution_count": 5,
   "metadata": {},
   "outputs": [],
   "source": [
    "for i, part in enumerate(midi_data2.parts):\n",
    "    for element in part.recurse():\n",
    "        if isinstance(element, chord.Chord):\n",
    "            concatenated_array.append(element)"
   ]
  },
  {
   "cell_type": "code",
   "execution_count": 6,
   "metadata": {},
   "outputs": [],
   "source": [
    "all_chords = []\n",
    "for chord in concatenated_array:\n",
    "    chord_arr = []\n",
    "    for notes in chord:\n",
    "        chord_arr.append(notes.pitch.ps)\n",
    "    all_chords.append(chord_arr)"
   ]
  },
  {
   "cell_type": "code",
   "execution_count": 7,
   "metadata": {},
   "outputs": [
    {
     "data": {
      "text/plain": [
       "186"
      ]
     },
     "execution_count": 7,
     "metadata": {},
     "output_type": "execute_result"
    }
   ],
   "source": [
    "len(all_chords)"
   ]
  },
  {
   "cell_type": "code",
   "execution_count": 9,
   "metadata": {},
   "outputs": [
    {
     "name": "stdout",
     "output_type": "stream",
     "text": [
      "6\n",
      "3\n"
     ]
    }
   ],
   "source": [
    "print(max(len(chord) for chord in all_chords))\n",
    "print(min(len(chord) for chord in all_chords))"
   ]
  },
  {
   "cell_type": "code",
   "execution_count": 10,
   "metadata": {},
   "outputs": [],
   "source": [
    "N = torch.zeros((129, 129), dtype=torch.int32)"
   ]
  },
  {
   "cell_type": "code",
   "execution_count": 11,
   "metadata": {},
   "outputs": [],
   "source": [
    "flattened_list = [int(element) for sublist in all_chords for element in sublist]"
   ]
  },
  {
   "cell_type": "code",
   "execution_count": 12,
   "metadata": {},
   "outputs": [],
   "source": [
    "notes = sorted(set(flattened_list))"
   ]
  },
  {
   "cell_type": "code",
   "execution_count": 13,
   "metadata": {},
   "outputs": [
    {
     "data": {
      "text/plain": [
       "23"
      ]
     },
     "execution_count": 13,
     "metadata": {},
     "output_type": "execute_result"
    }
   ],
   "source": [
    "len(notes)"
   ]
  },
  {
   "cell_type": "code",
   "execution_count": 14,
   "metadata": {},
   "outputs": [],
   "source": [
    "n_to_i = {s: s for i, s in enumerate(notes)}\n",
    "n_to_i[\".\"] = 128"
   ]
  },
  {
   "cell_type": "code",
   "execution_count": 217,
   "metadata": {},
   "outputs": [
    {
     "name": "stdout",
     "output_type": "stream",
     "text": [
      "{36: 'C2', 40: 'E2', 41: 'F2', 43: 'G2', 45: 'A2', 47: 'B2', 48: 'C3', 50: 'D3', 52: 'E3', 53: 'F3', 55: 'G3', 57: 'A3', 58: 'B-3', 59: 'B3', 60: 'C4', 62: 'D4', 63: 'E-4', 64: 'E4', 65: 'F4', 67: 'G4', 69: 'A4', 71: 'B4', 72: 'C5', 128: '.'}\n"
     ]
    }
   ],
   "source": [
    "i_to_n = {}\n",
    "\n",
    "for n in notes:\n",
    "    n_temp = note.Note(n)\n",
    "    i_to_n[n] = n_temp.nameWithOctave\n",
    "\n",
    "i_to_n[128] = \".\"\n",
    "print(i_to_n)"
   ]
  },
  {
   "cell_type": "code",
   "execution_count": 16,
   "metadata": {},
   "outputs": [
    {
     "data": {
      "text/plain": [
       "({36: 36,\n",
       "  40: 40,\n",
       "  41: 41,\n",
       "  43: 43,\n",
       "  45: 45,\n",
       "  47: 47,\n",
       "  48: 48,\n",
       "  50: 50,\n",
       "  52: 52,\n",
       "  53: 53,\n",
       "  55: 55,\n",
       "  57: 57,\n",
       "  58: 58,\n",
       "  59: 59,\n",
       "  60: 60,\n",
       "  62: 62,\n",
       "  63: 63,\n",
       "  64: 64,\n",
       "  65: 65,\n",
       "  67: 67,\n",
       "  69: 69,\n",
       "  71: 71,\n",
       "  72: 72,\n",
       "  '.': 128},\n",
       " {36: 'C2',\n",
       "  40: 'E2',\n",
       "  41: 'F2',\n",
       "  43: 'G2',\n",
       "  45: 'A2',\n",
       "  47: 'B2',\n",
       "  48: 'C3',\n",
       "  50: 'D3',\n",
       "  52: 'E3',\n",
       "  53: 'F3',\n",
       "  55: 'G3',\n",
       "  57: 'A3',\n",
       "  58: 'B-3',\n",
       "  59: 'B3',\n",
       "  60: 'C4',\n",
       "  62: 'D4',\n",
       "  63: 'E-4',\n",
       "  64: 'E4',\n",
       "  65: 'F4',\n",
       "  67: 'G4',\n",
       "  69: 'A4',\n",
       "  71: 'B4',\n",
       "  72: 'C5',\n",
       "  128: '.'})"
      ]
     },
     "execution_count": 16,
     "metadata": {},
     "output_type": "execute_result"
    }
   ],
   "source": [
    "n_to_i, i_to_n"
   ]
  },
  {
   "cell_type": "code",
   "execution_count": 18,
   "metadata": {},
   "outputs": [],
   "source": [
    "for chord in all_chords:\n",
    "    c_bigram = [\".\"] + chord + [\".\"]\n",
    "    for c1, c2 in zip(c_bigram, c_bigram[1:]):\n",
    "        ix1 = n_to_i[c1]\n",
    "        ix2 = n_to_i[c2]\n",
    "        N[ix1, ix2] += 1"
   ]
  },
  {
   "cell_type": "code",
   "execution_count": 19,
   "metadata": {},
   "outputs": [
    {
     "data": {
      "text/plain": [
       "<matplotlib.image.AxesImage at 0x1d5586a7d50>"
      ]
     },
     "execution_count": 19,
     "metadata": {},
     "output_type": "execute_result"
    },
    {
     "data": {
      "image/png": "[encoded data removed]",
      "text/plain": [
       "<Figure size 640x480 with 1 Axes>"
      ]
     },
     "metadata": {
      "image/png": {
       "height": 417,
       "width": 425
      }
     },
     "output_type": "display_data"
    }
   ],
   "source": [
    "import matplotlib.pyplot as plt\n",
    "\n",
    "plt.imshow(N)"
   ]
  },
  {
   "attachments": {},
   "cell_type": "markdown",
   "metadata": {},
   "source": [
    "# Sample the probabilities\n"
   ]
  },
  {
   "cell_type": "code",
   "execution_count": 144,
   "metadata": {},
   "outputs": [],
   "source": [
    "P = N.float()\n",
    "P /= P.sum(1, keepdim=True)"
   ]
  },
  {
   "cell_type": "code",
   "execution_count": 30,
   "metadata": {},
   "outputs": [
    {
     "name": "stdout",
     "output_type": "stream",
     "text": [
      "E3\n",
      "A3\n",
      "C4\n",
      "F4\n",
      "__\n",
      "C3\n",
      "G3\n",
      "C4\n",
      "E4\n",
      "__\n",
      "A2\n",
      "A3\n",
      "C4\n",
      "D4\n",
      "__\n",
      "F2\n",
      "A3\n",
      "__\n"
     ]
    }
   ],
   "source": [
    "g = torch.Generator().manual_seed(57485)\n",
    "midi_n = 0\n",
    "numofc = 0\n",
    "while True:\n",
    "    p = P[midi_n]\n",
    "    if not torch.isnan(p).any().item():\n",
    "        midi_n = torch.multinomial(\n",
    "            p, num_samples=1, replacement=True, generator=g\n",
    "        ).item()\n",
    "        if not midi_n == 128:\n",
    "            new_note = note.Note(midi_n)\n",
    "            print(new_note.pitch)\n",
    "    else:\n",
    "        midi_n += 1\n",
    "    if midi_n == 128:\n",
    "        print(\"__\")\n",
    "        numofc += 1\n",
    "        if numofc == 4:\n",
    "            break"
   ]
  },
  {
   "attachments": {},
   "cell_type": "markdown",
   "metadata": {},
   "source": [
    "# Evaluating the Quality of the model\n"
   ]
  },
  {
   "cell_type": "code",
   "execution_count": 133,
   "metadata": {},
   "outputs": [
    {
     "name": "stdout",
     "output_type": "stream",
     "text": [
      "tensor(1.0509)\n"
     ]
    }
   ],
   "source": [
    "log_likelihood = 0.0\n",
    "n = 0\n",
    "for chord in all_chords:\n",
    "    c_bigram = [\".\"] + chord + [\".\"]\n",
    "    for c1, c2 in zip(c_bigram, c_bigram[1:]):\n",
    "        ix1 = n_to_i[c1]\n",
    "        ix2 = n_to_i[c2]\n",
    "        p = P[ix1, ix2]\n",
    "        logprob = torch.log(p)\n",
    "        log_likelihood += logprob\n",
    "        n += 1\n",
    "\n",
    "nll = -log_likelihood\n",
    "# nll/=n\n",
    "print(nll / n)"
   ]
  },
  {
   "attachments": {},
   "cell_type": "markdown",
   "metadata": {},
   "source": [
    "# Making a Neural Network\n"
   ]
  },
  {
   "attachments": {},
   "cell_type": "markdown",
   "metadata": {},
   "source": [
    "## Creating a training set\n"
   ]
  },
  {
   "cell_type": "code",
   "execution_count": 145,
   "metadata": {},
   "outputs": [],
   "source": [
    "xs, ys = [], []\n",
    "\n",
    "for c in all_chords:\n",
    "    ns = [\".\"] + c + [\".\"]\n",
    "    for n1, n2 in zip(ns, ns[1:]):\n",
    "        ix1 = n_to_i[n1]\n",
    "        ix2 = n_to_i[n2]\n",
    "        xs.append(ix1)\n",
    "        ys.append(ix2)\n",
    "\n",
    "xs = torch.tensor(xs)\n",
    "ys = torch.tensor(ys)\n",
    "length_xs = xs.nelement()\n",
    "\n",
    "g = torch.Generator().manual_seed(547648569)\n",
    "W = torch.randn((129, 129), generator=g, requires_grad=True)"
   ]
  },
  {
   "cell_type": "code",
   "execution_count": 135,
   "metadata": {},
   "outputs": [
    {
     "data": {
      "text/plain": [
       "tensor(1.0002, grad_fn=<MeanBackward0>)"
      ]
     },
     "execution_count": 135,
     "metadata": {},
     "output_type": "execute_result"
    }
   ],
   "source": [
    "(W**2).mean()"
   ]
  },
  {
   "attachments": {},
   "cell_type": "markdown",
   "metadata": {},
   "source": [
    "## One Hot Encoding\n"
   ]
  },
  {
   "cell_type": "code",
   "execution_count": 146,
   "metadata": {},
   "outputs": [],
   "source": [
    "import torch.nn.functional as F\n",
    "\n",
    "xenc = F.one_hot(xs, num_classes=129).float()\n",
    "yenc = F.one_hot(ys, num_classes=129).float()"
   ]
  },
  {
   "cell_type": "code",
   "execution_count": 78,
   "metadata": {},
   "outputs": [
    {
     "data": {
      "text/plain": [
       "(tensor([[0., 0., 0.,  ..., 0., 0., 1.],\n",
       "         [0., 0., 0.,  ..., 0., 0., 0.],\n",
       "         [0., 0., 0.,  ..., 0., 0., 0.],\n",
       "         ...,\n",
       "         [0., 0., 0.,  ..., 0., 0., 0.],\n",
       "         [0., 0., 0.,  ..., 0., 0., 0.],\n",
       "         [0., 0., 0.,  ..., 0., 0., 0.]]),\n",
       " tensor([[0., 0., 0.,  ..., 0., 0., 0.],\n",
       "         [0., 0., 0.,  ..., 0., 0., 0.],\n",
       "         [0., 0., 0.,  ..., 0., 0., 0.],\n",
       "         ...,\n",
       "         [0., 0., 0.,  ..., 0., 0., 0.],\n",
       "         [0., 0., 0.,  ..., 0., 0., 0.],\n",
       "         [0., 0., 0.,  ..., 0., 0., 1.]]))"
      ]
     },
     "execution_count": 78,
     "metadata": {},
     "output_type": "execute_result"
    }
   ],
   "source": [
    "xenc, yenc"
   ]
  },
  {
   "attachments": {},
   "cell_type": "markdown",
   "metadata": {},
   "source": [
    "## Back Propogation\n"
   ]
  },
  {
   "cell_type": "code",
   "execution_count": 112,
   "metadata": {},
   "outputs": [],
   "source": [
    "from tqdm import tqdm"
   ]
  },
  {
   "cell_type": "code",
   "execution_count": 210,
   "metadata": {},
   "outputs": [
    {
     "name": "stderr",
     "output_type": "stream",
     "text": [
      "Backpropagation : 100%|██████████| 100000/100000 [01:34<00:00, 1061.89it/s]"
     ]
    },
    {
     "name": "stdout",
     "output_type": "stream",
     "text": [
      "1.0534700155258179\n"
     ]
    },
    {
     "name": "stderr",
     "output_type": "stream",
     "text": [
      "\n"
     ]
    }
   ],
   "source": [
    "loss = 0.0\n",
    "for k in tqdm(range(100000), desc=\"Backpropagation : \"):\n",
    "    xenc = F.one_hot(xs, num_classes=129).float()\n",
    "    logits = xenc @ W\n",
    "    # Softmax\n",
    "    counts = logits.exp()\n",
    "    probs = counts / counts.sum(1, keepdims=True)\n",
    "    loss = -probs[torch.arange(length_xs), ys].log().mean()\n",
    "\n",
    "    # Backward Pass\n",
    "    W.grad = None\n",
    "    loss.backward()\n",
    "\n",
    "    # Modify Weight\n",
    "    W.data += -0.1*W.grad\n",
    "print(loss.item())"
   ]
  },
  {
   "cell_type": "code",
   "execution_count": 211,
   "metadata": {},
   "outputs": [
    {
     "data": {
      "text/plain": [
       "<matplotlib.image.AxesImage at 0x1d56343f810>"
      ]
     },
     "execution_count": 211,
     "metadata": {},
     "output_type": "execute_result"
    },
    {
     "data": {
      "image/png": "[encoded data removed]",
      "text/plain": [
       "<Figure size 640x480 with 1 Axes>"
      ]
     },
     "metadata": {
      "image/png": {
       "height": 417,
       "width": 425
      }
     },
     "output_type": "display_data"
    }
   ],
   "source": [
    "W_detached = W.detach().numpy()\n",
    "plt.imshow(W_detached)"
   ]
  },
  {
   "attachments": {},
   "cell_type": "markdown",
   "metadata": {},
   "source": [
    "# Sample from Neural Network\n"
   ]
  },
  {
   "cell_type": "code",
   "execution_count": 219,
   "metadata": {},
   "outputs": [
    {
     "name": "stdout",
     "output_type": "stream",
     "text": [
      "index doesn't exist moving on!\n",
      "index doesn't exist moving on!\n",
      "index doesn't exist moving on!\n",
      "index doesn't exist moving on!\n",
      "index doesn't exist moving on!\n",
      "[['E3', 'A3', 'C4'], ['D3', 'A3', 'C4'], ['A2', 'A3', 'C4', 'E4', 'G4'], ['A4']]\n"
     ]
    }
   ],
   "source": [
    "g = torch.Generator().manual_seed(840283515)\n",
    "final_progression = []\n",
    "\n",
    "for i in range(4):\n",
    "    out = []\n",
    "    ix = 0\n",
    "\n",
    "    while True:\n",
    "        xenc_local = F.one_hot(torch.tensor([ix]), num_classes=129).float()\n",
    "        logits = xenc_local @ W\n",
    "        counts = logits.exp()\n",
    "        p = counts / counts.sum(1, keepdims=True)\n",
    "\n",
    "        ix = torch.multinomial(p, num_samples=1, replacement=True, generator=g).item()\n",
    "\n",
    "        if ix == 128:\n",
    "            break\n",
    "        try:\n",
    "            out.append(i_to_n[ix])\n",
    "        except KeyError:\n",
    "            print(\"index doesn't exist moving on!\")\n",
    "    final_progression.append(out)\n",
    "print(final_progression)"
   ]
  },
  {
   "cell_type": "code",
   "execution_count": 213,
   "metadata": {},
   "outputs": [
    {
     "data": {
      "text/plain": [
       "[[104, 111, 52, 57, 60], [37, 50, 57, 60], [73, 45, 57, 60, 64, 67], [61, 69]]"
      ]
     },
     "execution_count": 213,
     "metadata": {},
     "output_type": "execute_result"
    }
   ],
   "source": [
    "final_progression"
   ]
  },
  {
   "attachments": {},
   "cell_type": "markdown",
   "metadata": {},
   "source": [
    "# Finding all types of elements in a part\n"
   ]
  },
  {
   "cell_type": "code",
   "execution_count": 22,
   "metadata": {},
   "outputs": [
    {
     "name": "stdout",
     "output_type": "stream",
     "text": [
      "0 <music21.stream.Measure 1 offset=0.0>\n",
      "2 <music21.clef.TrebleClef>\n",
      "3 <music21.meter.TimeSignature 4/4>\n",
      "CHord [[60.0, 102, 1.0, 'quarter', 0.0], [65.0, 102, 1.0, 'quarter', 0.0]]\n",
      "5 <music21.stream.Measure 2 offset=4.0>\n",
      "6 <music21.note.Rest quarter>\n",
      "CHord [[60.0, 100, 1.0, 'quarter', 0.0], [67.0, 102, 1.0, 'quarter', 0.0]]\n",
      "8 <music21.note.Rest dotted-eighth>\n"
     ]
    }
   ],
   "source": [
    "for part in midi_data_offset.parts:\n",
    "    chords_array = []\n",
    "    for idx, element in enumerate(part.recurse()):\n",
    "        if isinstance(element, stream.Measure):\n",
    "            print(idx, element)\n",
    "        elif isinstance(element, clef.TrebleClef):\n",
    "            print(idx, element)\n",
    "        elif isinstance(element, meter.TimeSignature):\n",
    "            print(idx, element)\n",
    "        elif isinstance(element, chord.Chord):\n",
    "            print(\n",
    "                \"CHord\",\n",
    "                [\n",
    "                    [\n",
    "                        n.pitch.ps,\n",
    "                        n.volume.velocity,\n",
    "                        n.duration.quarterLength,\n",
    "                        n.duration.type,\n",
    "                        n.offset,\n",
    "                    ]\n",
    "                    for n in element.notes\n",
    "                ],\n",
    "            )\n",
    "        elif isinstance(element, note.Rest):\n",
    "            print(idx, element)"
   ]
  },
  {
   "cell_type": "code",
   "execution_count": 184,
   "metadata": {},
   "outputs": [
    {
     "name": "stdout",
     "output_type": "stream",
     "text": [
      "0 <music21.stream.Measure 1 offset=0.0>\n",
      "1 \n",
      "2 <music21.clef.TrebleClef>\n",
      "3 <music21.meter.TimeSignature 4/4>\n",
      "4 <music21.chord.Chord C4 F4>\n",
      "5 <music21.stream.Measure 2 offset=4.0>\n",
      "6 <music21.note.Rest quarter>\n",
      "7 <music21.chord.Chord C4 G4>\n",
      "8 <music21.note.Rest dotted-eighth>\n",
      "9 <music21.bar.Barline type=final>\n"
     ]
    }
   ],
   "source": [
    "for i, part in enumerate(midi_data_offset.parts):\n",
    "    chords_array = []\n",
    "    for idx, element in enumerate(part.recurse()):\n",
    "        print(idx, element)\n",
    "        if isinstance(element, chord.Chord):\n",
    "            # if isinstance(part.recurse()[idx-1],)\n",
    "            chord_array = [element]\n",
    "            # for i, n in enumerate(element):\n",
    "            #     chord_array.append(\n",
    "            #         [int(n.pitch.ps), n.volume.velocity, n.duration.quarterLength, n.offset, 0])\n",
    "            chords_array.append(chord_array)\n",
    "    if chords_array:\n",
    "        concatenated_array.append(chords_array)"
   ]
  },
  {
   "cell_type": "code",
   "execution_count": 185,
   "metadata": {},
   "outputs": [
    {
     "data": {
      "text/plain": [
       "[[[<music21.chord.Chord C4 F4>], [<music21.chord.Chord C4 G4>]]]"
      ]
     },
     "execution_count": 185,
     "metadata": {},
     "output_type": "execute_result"
    }
   ],
   "source": [
    "concatenated_array"
   ]
  },
  {
   "attachments": {},
   "cell_type": "markdown",
   "metadata": {},
   "source": [
    "# Outputting a MIDI file\n"
   ]
  },
  {
   "cell_type": "code",
   "execution_count": 220,
   "metadata": {},
   "outputs": [],
   "source": [
    "s = stream.Score()"
   ]
  },
  {
   "cell_type": "code",
   "execution_count": 221,
   "metadata": {},
   "outputs": [
    {
     "name": "stdout",
     "output_type": "stream",
     "text": [
      "<music21.chord.Chord E3 A3 C4>\n",
      "<music21.chord.Chord D3 A3 C4>\n",
      "<music21.chord.Chord A2 A3 C4 E4 G4>\n",
      "<music21.chord.Chord A4>\n"
     ]
    }
   ],
   "source": [
    "for chord_array in final_progression:\n",
    "    c = chord.Chord(chord_array)\n",
    "    print(c)\n",
    "    s.append(c)"
   ]
  },
  {
   "cell_type": "code",
   "execution_count": 166,
   "metadata": {},
   "outputs": [],
   "source": [
    "for each_file in concatenated_array:\n",
    "    for chords in each_file:\n",
    "        chord_arr = []\n",
    "        for each_chord in chords:\n",
    "            n = note.Note(each_chord[0])\n",
    "            n.volume.velocity = each_chord[1]\n",
    "            n.duration.quarterLength = each_chord[2]\n",
    "            n.offset = each_chord[3]\n",
    "            chord_arr.append(n)\n",
    "\n",
    "        c = chord.Chord(chord_arr)\n",
    "        s.append(c)"
   ]
  },
  {
   "cell_type": "code",
   "execution_count": 167,
   "metadata": {},
   "outputs": [
    {
     "data": {
      "text/plain": [
       "<music21.stream.Score 0x1ef6dc803d0>"
      ]
     },
     "execution_count": 167,
     "metadata": {},
     "output_type": "execute_result"
    }
   ],
   "source": [
    "s"
   ]
  },
  {
   "cell_type": "code",
   "execution_count": 222,
   "metadata": {},
   "outputs": [
    {
     "data": {
      "text/plain": [
       "'output_file.mid'"
      ]
     },
     "execution_count": 222,
     "metadata": {},
     "output_type": "execute_result"
    }
   ],
   "source": [
    "s.write(\"midi\", \"output_file.mid\")"
   ]
  }
 ],
 "metadata": {
  "kernelspec": {
   "display_name": "MIDI-gen-ai-JpLec6SW",
   "language": "python",
   "name": "python3"
  },
  "language_info": {
   "codemirror_mode": {
    "name": "ipython",
    "version": 3
   },
   "file_extension": ".py",
   "mimetype": "text/x-python",
   "name": "python",
   "nbconvert_exporter": "python",
   "pygments_lexer": "ipython3",
   "version": "3.11.3"
  },
  "orig_nbformat": 4
 },
 "nbformat": 4,
 "nbformat_minor": 2
}
