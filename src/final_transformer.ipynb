{
 "cells": [
  {
   "cell_type": "code",
   "execution_count": 7,
   "metadata": {},
   "outputs": [],
   "source": [
    "import torch\n",
    "import torch.nn as nn\n",
    "import torch.nn.functional as F\n",
    "from torch.utils.data import Dataset, DataLoader\n",
    "import matplotlib.pyplot as plt\n",
    "from music21 import chord, note, stream, clef, meter\n",
    "from data_cleaning import Open\n",
    "import os\n",
    "import numpy as np\n",
    "import re"
   ]
  },
  {
   "cell_type": "code",
   "execution_count": null,
   "metadata": {},
   "outputs": [],
   "source": [
    "# Vocab"
   ]
  },
  {
   "cell_type": "code",
   "execution_count": 5,
   "metadata": {},
   "outputs": [],
   "source": [
    "all_chords = []\n",
    "\n",
    "\n",
    "def open_midi_files(dest_directory):\n",
    "    for root, dirs, files in os.walk(dest_directory):\n",
    "        # print(dirs)\n",
    "        for f_i, file in enumerate(files):\n",
    "            mid_file = os.path.join(root, file)\n",
    "            midi_data = Open.open_midi(mid_file)\n",
    "            all_chords.append(f\"<song_{f_i}>\")\n",
    "            # prog_array = []\n",
    "            el_array = []\n",
    "            for i, part in enumerate(midi_data.parts):\n",
    "                all_chords.append(f\"<part_{i}>\")\n",
    "                for element in part.recurse():\n",
    "                    # if isinstance(element, meter.TimeSignature):\n",
    "                    #     all_chords.append(element.ratioString)\n",
    "                    if isinstance(element, chord.Chord):\n",
    "                        all_chords.append(\"<meta>\")\n",
    "                        all_chords.append(\n",
    "                            f\"chord_quarterlength {element.duration.quarterLength.real}\")\n",
    "                        all_chords.append(f\"chord_offset {element.offset}\")\n",
    "                        all_chords.append(\"<chord_start>\")\n",
    "                        for n in element:\n",
    "                            all_chords.append(f\"note_pitch {n.pitch.midi}\")\n",
    "                            all_chords.append(\n",
    "                                f\"note_velocity {n.volume.velocity}\")\n",
    "                            all_chords.append(\n",
    "                                f\"note_quarterlength {n.duration.quarterLength}\")\n",
    "                            all_chords.append(f\"note_offset {n.offset}\")\n",
    "                        all_chords.append(\"<end>\")\n",
    "                    # elif isinstance(element, chord.Chord):\n",
    "                    #     # el_array.append([p.midi for p in element.pitches])\n",
    "                    #     pass\n",
    "                # if el_array:\n",
    "                #     prog_array.append(el_array)\n",
    "\n",
    "            # all_chords.append(el_array)\n",
    "\n",
    "\n",
    "open_midi_files(os.path.join(os.getcwd(), \"sample_rock_set\"))"
   ]
  },
  {
   "cell_type": "code",
   "execution_count": 17,
   "metadata": {},
   "outputs": [],
   "source": [
    "chars = sorted(list(set(all_chords)))\n",
    "vocab_size = len(chars)\n",
    "# create a mapping from characters to integers\n",
    "stoi = {ch: i for i, ch in enumerate(chars)}\n",
    "\n",
    "# for i in chars:\n",
    "#     match = re.search(r'(?<=\\s)(.*)', i)\n",
    "#     # print(match)\n",
    "\n",
    "#     if match:\n",
    "#         number = match.group()\n",
    "#         print(eval(number))\n",
    "#     else:\n",
    "#         print(i)\n",
    "\n",
    "itos = {i: ch for i, ch in enumerate(chars)}\n",
    "encode = lambda s: [stoi[c] for c in s] # encoder: take a string, output a list of integers\n",
    "\n",
    "# def decode(l):\n",
    "#     for piece in l:\n",
    "#         print(piece)\n",
    "decode = lambda l: '\\n'.join([itos[i] for i in l]) # decoder: take a list of integers, output a string\n",
    "\n",
    "# Train and test splits\n",
    "data = torch.tensor(encode(all_chords), dtype=torch.long)\n",
    "n = int(0.9*len(data)) # first 90% will be train, rest val\n",
    "train_data = data[:n]\n",
    "val_data = data[n:]"
   ]
  },
  {
   "cell_type": "code",
   "execution_count": 18,
   "metadata": {},
   "outputs": [],
   "source": [
    "block_size = 8\n",
    "\n",
    "x = decode(train_data[:block_size+1].tolist())"
   ]
  },
  {
   "cell_type": "code",
   "execution_count": 19,
   "metadata": {},
   "outputs": [
    {
     "name": "stdout",
     "output_type": "stream",
     "text": [
      "when input is tensor([14]) the target: 3\n",
      "when input is tensor([14,  3]) the target: 2\n",
      "when input is tensor([14,  3,  2]) the target: 56\n",
      "when input is tensor([14,  3,  2, 56]) the target: 28\n",
      "when input is tensor([14,  3,  2, 56, 28]) the target: 0\n",
      "when input is tensor([14,  3,  2, 56, 28,  0]) the target: 130\n",
      "when input is tensor([ 14,   3,   2,  56,  28,   0, 130]) the target: 247\n",
      "when input is tensor([ 14,   3,   2,  56,  28,   0, 130, 247]) the target: 160\n"
     ]
    }
   ],
   "source": [
    "x = train_data[:block_size]\n",
    "y = train_data[1 : block_size + 1]\n",
    "for t in range(block_size):\n",
    "    context = x[: t + 1]\n",
    "    target = y[t]\n",
    "    print(f\"when input is {context} the target: {target}\")"
   ]
  },
  {
   "cell_type": "code",
   "execution_count": 21,
   "metadata": {},
   "outputs": [
    {
     "name": "stdout",
     "output_type": "stream",
     "text": [
      "inputs:\n",
      "torch.Size([4, 8])\n",
      "tensor([[ 56,  39,   0, 124, 247, 160,  92, 119],\n",
      "        [199, 160,  92, 120, 199, 160,  92,   1],\n",
      "        [160,  92,   1,   2,  85,  48,   0, 130],\n",
      "        [122, 247, 160,  92, 110, 247, 160,  92]])\n",
      "targets:\n",
      "torch.Size([4, 8])\n",
      "tensor([[ 39,   0, 124, 247, 160,  92, 119, 247],\n",
      "        [160,  92, 120, 199, 160,  92,   1,   2],\n",
      "        [ 92,   1,   2,  85,  48,   0, 130, 184],\n",
      "        [247, 160,  92, 110, 247, 160,  92,   1]])\n",
      "----\n",
      "when input is [56] the target: 39\n",
      "when input is [56, 39] the target: 0\n",
      "when input is [56, 39, 0] the target: 124\n",
      "when input is [56, 39, 0, 124] the target: 247\n",
      "when input is [56, 39, 0, 124, 247] the target: 160\n",
      "when input is [56, 39, 0, 124, 247, 160] the target: 92\n",
      "when input is [56, 39, 0, 124, 247, 160, 92] the target: 119\n",
      "when input is [56, 39, 0, 124, 247, 160, 92, 119] the target: 247\n",
      "when input is [199] the target: 160\n",
      "when input is [199, 160] the target: 92\n",
      "when input is [199, 160, 92] the target: 120\n",
      "when input is [199, 160, 92, 120] the target: 199\n",
      "when input is [199, 160, 92, 120, 199] the target: 160\n",
      "when input is [199, 160, 92, 120, 199, 160] the target: 92\n",
      "when input is [199, 160, 92, 120, 199, 160, 92] the target: 1\n",
      "when input is [199, 160, 92, 120, 199, 160, 92, 1] the target: 2\n",
      "when input is [160] the target: 92\n",
      "when input is [160, 92] the target: 1\n",
      "when input is [160, 92, 1] the target: 2\n",
      "when input is [160, 92, 1, 2] the target: 85\n",
      "when input is [160, 92, 1, 2, 85] the target: 48\n",
      "when input is [160, 92, 1, 2, 85, 48] the target: 0\n",
      "when input is [160, 92, 1, 2, 85, 48, 0] the target: 130\n",
      "when input is [160, 92, 1, 2, 85, 48, 0, 130] the target: 184\n",
      "when input is [122] the target: 247\n",
      "when input is [122, 247] the target: 160\n",
      "when input is [122, 247, 160] the target: 92\n",
      "when input is [122, 247, 160, 92] the target: 110\n",
      "when input is [122, 247, 160, 92, 110] the target: 247\n",
      "when input is [122, 247, 160, 92, 110, 247] the target: 160\n",
      "when input is [122, 247, 160, 92, 110, 247, 160] the target: 92\n",
      "when input is [122, 247, 160, 92, 110, 247, 160, 92] the target: 1\n"
     ]
    }
   ],
   "source": [
    "torch.manual_seed(1337)\n",
    "batch_size = 4  # how many independent sequences will we process in parallel?\n",
    "block_size = 8  # what is the maximum context length for predictions?\n",
    "\n",
    "\n",
    "def get_batch(split):\n",
    "    # generate a small batch of data of inputs x and targets y\n",
    "    data = train_data if split == 'train' else val_data\n",
    "    ix = torch.randint(len(data) - block_size, (batch_size,))\n",
    "    x = torch.stack([data[i:i+block_size] for i in ix])\n",
    "    y = torch.stack([data[i+1:i+block_size+1] for i in ix])\n",
    "    return x, y\n",
    "\n",
    "\n",
    "xb, yb = get_batch('train')\n",
    "print('inputs:')\n",
    "print(xb.shape)\n",
    "print(xb)\n",
    "print('targets:')\n",
    "print(yb.shape)\n",
    "print(yb)\n",
    "\n",
    "print('----')\n",
    "\n",
    "for b in range(batch_size):  # batch dimension\n",
    "    for t in range(block_size):  # time dimension\n",
    "        context = xb[b, :t+1]\n",
    "        target = yb[b, t]\n",
    "        print(f\"when input is {context.tolist()} the target: {target}\")"
   ]
  },
  {
   "cell_type": "code",
   "execution_count": 22,
   "metadata": {},
   "outputs": [],
   "source": [
    "import torch\n",
    "import torch.nn as nn\n",
    "from torch.nn import functional as F\n",
    "torch.manual_seed(1337)\n",
    "\n",
    "\n",
    "class BigramLanguageModel(nn.Module):\n",
    "\n",
    "    def __init__(self, vocab_size):\n",
    "        super().__init__()\n",
    "        # each token directly reads off the logits for the next token from a lookup table\n",
    "        self.token_embedding_table = nn.Embedding(vocab_size, vocab_size)\n",
    "\n",
    "    def forward(self, idx, targets=None):\n",
    "\n",
    "        # idx and targets are both (B,T) tensor of integers\n",
    "        logits = self.token_embedding_table(idx)  # (B,T,C)\n",
    "        if targets is None:\n",
    "            loss = None\n",
    "        else:\n",
    "            B, T, C = logits.shape\n",
    "            logits = logits.view(B*T, C)\n",
    "            targets = targets.view(B*T)\n",
    "            loss = F.cross_entropy(logits, targets)\n",
    "\n",
    "        return logits, loss\n",
    "\n",
    "    def generate(self, idx, max_new_tokens):\n",
    "        # idx is (B, T) array of indices in the current context\n",
    "        for _ in range(max_new_tokens):\n",
    "            # get the predictions\n",
    "            logits, loss = self(idx)\n",
    "            # focus only on the last time step\n",
    "            logits = logits[:, -1, :]  # becomes (B, C)\n",
    "            # apply softmax to get probabilities\n",
    "            probs = F.softmax(logits, dim=-1)  # (B, C)\n",
    "            # sample from the distribution\n",
    "            idx_next = torch.multinomial(probs, num_samples=1)  # (B, 1)\n",
    "            # append sampled index to the running sequence\n",
    "            idx = torch.cat((idx, idx_next), dim=1)  # (B, T+1)\n",
    "        return idx\n",
    "\n",
    "\n",
    "m = BigramLanguageModel(vocab_size)\n",
    "# print(m.token_embedding_table)\n",
    "# print(xb)\n",
    "logits, loss = m(xb, yb)\n",
    "# print(logits.shape)\n",
    "# print(loss)\n",
    "\n",
    "# print(decode(m.generate(idx = torch.zeros((1, 1), dtype=torch.long), max_new_tokens=10)[0].tolist()))"
   ]
  },
  {
   "cell_type": "code",
   "execution_count": 23,
   "metadata": {},
   "outputs": [],
   "source": [
    "optimizer = torch.optim.AdamW(m.parameters(), lr=1e-3)"
   ]
  },
  {
   "cell_type": "code",
   "execution_count": 24,
   "metadata": {},
   "outputs": [],
   "source": [
    "losses = []"
   ]
  },
  {
   "cell_type": "code",
   "execution_count": null,
   "metadata": {},
   "outputs": [],
   "source": [
    "batch_size = 128\n",
    "for steps in range(10000):\n",
    "    xb, yb = get_batch('train')\n",
    "\n",
    "    logits, loss = m(xb, yb)\n",
    "    optimizer.zero_grad(set_to_none=True)\n",
    "    loss.backward()\n",
    "    optimizer.step()\n",
    "\n",
    "    if steps % 100 == 0:\n",
    "        losses.append(loss.item())\n",
    "        print(loss.item())"
   ]
  },
  {
   "cell_type": "code",
   "execution_count": 26,
   "metadata": {},
   "outputs": [
    {
     "data": {
      "text/plain": [
       "[<matplotlib.lines.Line2D at 0x13ab1e250>]"
      ]
     },
     "execution_count": 26,
     "metadata": {},
     "output_type": "execute_result"
    },
    {
     "data": {
      "image/png": "[encoded data removed]",
      "text/plain": [
       "<Figure size 640x480 with 1 Axes>"
      ]
     },
     "metadata": {
      "image/png": {
       "height": 413,
       "width": 534
      }
     },
     "output_type": "display_data"
    }
   ],
   "source": [
    "plt.plot(losses)"
   ]
  },
  {
   "cell_type": "code",
   "execution_count": 27,
   "metadata": {},
   "outputs": [
    {
     "name": "stdout",
     "output_type": "stream",
     "text": [
      "<chord_start>\n",
      "note_pitch 61\n",
      "note_velocity 80\n",
      "note_quarterlength 1.0\n",
      "note_offset 0.0\n",
      "<end>\n",
      "<meta>\n",
      "chord_quarterlength 0.25\n",
      "chord_offset 2.75\n",
      "<chord_start>\n",
      "note_pitch 61\n",
      "note_velocity 80\n",
      "note_quarterlength 1.0\n",
      "note_offset 0.0\n",
      "<end>\n",
      "<meta>\n",
      "chord_quarterlength 0.25\n",
      "chord_offset 2.5\n",
      "<chord_start>\n",
      "note_pitch 60\n",
      "note_velocity 95\n"
     ]
    }
   ],
   "source": [
    "print(decode(m.generate(idx=torch.zeros(\n",
    "    (1, 1), dtype=torch.long), max_new_tokens=20)[0].tolist()))"
   ]
  },
  {
   "cell_type": "code",
   "execution_count": null,
   "metadata": {},
   "outputs": [],
   "source": []
  }
 ],
 "metadata": {
  "kernelspec": {
   "display_name": "MIDI-gen-ai-zQgyHHXT",
   "language": "python",
   "name": "python3"
  },
  "language_info": {
   "codemirror_mode": {
    "name": "ipython",
    "version": 3
   },
   "file_extension": ".py",
   "mimetype": "text/x-python",
   "name": "python",
   "nbconvert_exporter": "python",
   "pygments_lexer": "ipython3",
   "version": "3.11.3"
  },
  "orig_nbformat": 4
 },
 "nbformat": 4,
 "nbformat_minor": 2
}
