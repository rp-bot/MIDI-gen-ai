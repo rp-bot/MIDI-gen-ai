{
 "cells": [
  {
   "cell_type": "code",
   "execution_count": 43,
   "metadata": {},
   "outputs": [],
   "source": [
    "import torch\n",
    "import torch.nn as nn\n",
    "import torch.nn.functional as F\n",
    "from torch.utils.data import Dataset, DataLoader\n",
    "import matplotlib.pyplot as plt\n",
    "from music21 import chord, note, stream, clef, meter\n",
    "from data_cleaning import Open\n",
    "import os\n",
    "import numpy as np"
   ]
  },
  {
   "cell_type": "code",
   "execution_count": null,
   "metadata": {},
   "outputs": [],
   "source": [
    "# Vocab\n"
   ]
  },
  {
   "cell_type": "code",
   "execution_count": 71,
   "metadata": {},
   "outputs": [],
   "source": [
    "all_chords = []\n",
    "\n",
    "\n",
    "def open_midi_files(dest_directory):\n",
    "    for root, dirs, files in os.walk(dest_directory):\n",
    "        # print(dirs)\n",
    "        for f_i,file in enumerate(files):\n",
    "            mid_file = os.path.join(root, file)\n",
    "            midi_data = Open.open_midi(mid_file)\n",
    "            all_chords.append(f\"<song {f_i}>\")\n",
    "            # prog_array = []\n",
    "            el_array = []\n",
    "            for i, part in enumerate(midi_data.parts):\n",
    "                all_chords.append(f\"<part {i}>\")\n",
    "                for element in part.recurse():\n",
    "                    # if isinstance(element, meter.TimeSignature):\n",
    "                    #     all_chords.append(element.ratioString)\n",
    "                    if isinstance(element, chord.Chord):\n",
    "                        all_chords.append(\"<meta>\")\n",
    "                        all_chords.append(\n",
    "                            f\"chord_quarterlength {element.duration.quarterLength.real}\")\n",
    "                        all_chords.append(f\"chord_offset {element.offset}\")\n",
    "                        all_chords.append(\"<chord_start>\")\n",
    "                        for n in element:\n",
    "                            all_chords.append(f\"note_pitch {n.pitch.midi}\")\n",
    "                            all_chords.append(\n",
    "                                f\"note_velocity {n.volume.velocity}\")\n",
    "                            all_chords.append(\n",
    "                                f\"note_quarterlength {n.duration.quarterLength}\")\n",
    "                            all_chords.append(f\"note_offset {n.offset}\")\n",
    "                        all_chords.append(\"<end>\")\n",
    "                    # elif isinstance(element, chord.Chord):\n",
    "                    #     # el_array.append([p.midi for p in element.pitches])\n",
    "                    #     pass\n",
    "                # if el_array:\n",
    "                #     prog_array.append(el_array)\n",
    "\n",
    "            # all_chords.append(el_array)\n",
    "\n",
    "\n",
    "open_midi_files(os.path.join(os.getcwd(), \"sample_rock_set\"))"
   ]
  },
  {
   "cell_type": "code",
   "execution_count": 105,
   "metadata": {},
   "outputs": [],
   "source": [
    "chars = sorted(list(set(all_chords)))\n",
    "vocab_size = len(chars)\n",
    "# create a mapping from characters to integers\n",
    "stoi = { ch:i for i,ch in enumerate(chars) }\n",
    "itos = { i:ch for i,ch in enumerate(chars) }\n",
    "encode = lambda s: [stoi[c] for c in s] # encoder: take a string, output a list of integers\n",
    "def decode(l):\n",
    "    return [itos[i] for i in l]\n",
    "# decode = lambda l: ''.join([itos[i] for i in l]) # decoder: take a list of integers, output a string\n",
    "\n",
    "# Train and test splits\n",
    "data = torch.tensor(encode(all_chords), dtype=torch.long)\n",
    "n = int(0.9*len(data)) # first 90% will be train, rest val\n",
    "train_data = data[:n]\n",
    "val_data = data[n:]\n"
   ]
  },
  {
   "cell_type": "code",
   "execution_count": null,
   "metadata": {},
   "outputs": [],
   "source": [
    "block_size = 8\n",
    "\n",
    "x =decode(train_data[:block_size+1].tolist())\n"
   ]
  },
  {
   "cell_type": "code",
   "execution_count": 92,
   "metadata": {},
   "outputs": [
    {
     "name": "stdout",
     "output_type": "stream",
     "text": [
      "when input is tensor([3]) the target: 2\n",
      "when input is tensor([3, 2]) the target: 42\n",
      "when input is tensor([ 3,  2, 42]) the target: 14\n",
      "when input is tensor([ 3,  2, 42, 14]) the target: 0\n",
      "when input is tensor([ 3,  2, 42, 14,  0]) the target: 116\n",
      "when input is tensor([  3,   2,  42,  14,   0, 116]) the target: 233\n",
      "when input is tensor([  3,   2,  42,  14,   0, 116, 233]) the target: 146\n",
      "when input is tensor([  3,   2,  42,  14,   0, 116, 233, 146]) the target: 78\n"
     ]
    }
   ],
   "source": [
    "x = train_data[:block_size]\n",
    "y = train_data[1:block_size+1]\n",
    "for t in range(block_size):\n",
    "    context = x[:t+1]\n",
    "    target = y[t]\n",
    "    print(f\"when input is {context} the target: {target}\")"
   ]
  },
  {
   "cell_type": "code",
   "execution_count": null,
   "metadata": {},
   "outputs": [],
   "source": [
    "torch.manual_seed(1337)\n",
    "batch_size = 4 # how many independent sequences will we process in parallel?\n",
    "block_size = 8 # what is the maximum context length for predictions?\n",
    "\n",
    "def get_batch(split):\n",
    "    # generate a small batch of data of inputs x and targets y\n",
    "    data = train_data if split == 'train' else val_data\n",
    "    ix = torch.randint(len(data) - block_size, (batch_size,))\n",
    "    x = torch.stack([data[i:i+block_size] for i in ix])\n",
    "    y = torch.stack([data[i+1:i+block_size+1] for i in ix])\n",
    "    return x, y\n",
    "\n",
    "xb, yb = get_batch('train')\n",
    "print('inputs:')\n",
    "print(xb.shape)\n",
    "print(xb)\n",
    "print('targets:')\n",
    "print(yb.shape)\n",
    "print(yb)\n",
    "\n",
    "print('----')\n",
    "\n",
    "for b in range(batch_size): # batch dimension\n",
    "    for t in range(block_size): # time dimension\n",
    "        context = xb[b, :t+1]\n",
    "        target = yb[b,t]\n",
    "        print(f\"when input is {context.tolist()} the target: {target}\")"
   ]
  },
  {
   "cell_type": "code",
   "execution_count": 130,
   "metadata": {},
   "outputs": [
    {
     "name": "stdout",
     "output_type": "stream",
     "text": [
      "['<chord_start>', 'note_velocity 104', 'note_velocity 93', 'chord_offset 3.75', 'note_velocity 47', 'chord_offset 1.0', 'note_pitch 39', 'note_velocity 75', 'chord_quarterlength 1/6', 'chord_offset 2.75', 'note_pitch 57']\n"
     ]
    }
   ],
   "source": [
    "import torch\n",
    "import torch.nn as nn\n",
    "from torch.nn import functional as F\n",
    "torch.manual_seed(1337)\n",
    "\n",
    "class BigramLanguageModel(nn.Module):\n",
    "\n",
    "    def __init__(self, vocab_size):\n",
    "        super().__init__()\n",
    "        # each token directly reads off the logits for the next token from a lookup table\n",
    "        self.token_embedding_table = nn.Embedding(vocab_size, vocab_size)\n",
    "\n",
    "    def forward(self, idx, targets=None):\n",
    "\n",
    "        # idx and targets are both (B,T) tensor of integers\n",
    "        logits = self.token_embedding_table(idx) # (B,T,C)\n",
    "        if targets is None:\n",
    "            loss = None\n",
    "        else:\n",
    "            B, T, C = logits.shape\n",
    "            logits = logits.view(B*T, C)\n",
    "            targets = targets.view(B*T)\n",
    "            loss = F.cross_entropy(logits, targets)\n",
    "\n",
    "        return logits, loss\n",
    "    \n",
    "    def generate(self, idx, max_new_tokens):\n",
    "        # idx is (B, T) array of indices in the current context\n",
    "        for _ in range(max_new_tokens):\n",
    "            # get the predictions\n",
    "            logits, loss = self(idx)\n",
    "            # focus only on the last time step\n",
    "            logits = logits[:, -1, :] # becomes (B, C)\n",
    "            # apply softmax to get probabilities\n",
    "            probs = F.softmax(logits, dim=-1) # (B, C)\n",
    "            # sample from the distribution\n",
    "            idx_next = torch.multinomial(probs, num_samples=1) # (B, 1)\n",
    "            # append sampled index to the running sequence\n",
    "            idx = torch.cat((idx, idx_next), dim=1) # (B, T+1)\n",
    "        return idx\n",
    "\n",
    "m = BigramLanguageModel(vocab_size)\n",
    "# print(m.token_embedding_table)\n",
    "# print(xb)\n",
    "logits, loss = m(xb, yb)\n",
    "# print(logits.shape)\n",
    "# print(loss)\n",
    "\n",
    "# print(decode(m.generate(idx = torch.zeros((1, 1), dtype=torch.long), max_new_tokens=10)[0].tolist()))\n"
   ]
  },
  {
   "cell_type": "code",
   "execution_count": 135,
   "metadata": {},
   "outputs": [],
   "source": [
    "optimizer = torch.optim.AdamW(m.parameters(), lr=1e-3)"
   ]
  },
  {
   "cell_type": "code",
   "execution_count": 133,
   "metadata": {},
   "outputs": [],
   "source": [
    "losses = []"
   ]
  },
  {
   "cell_type": "code",
   "execution_count": 136,
   "metadata": {},
   "outputs": [
    {
     "name": "stdout",
     "output_type": "stream",
     "text": [
      "1.0835044384002686\n",
      "1.0871989727020264\n",
      "1.039498209953308\n",
      "1.1217890977859497\n",
      "1.0613363981246948\n",
      "1.0246355533599854\n",
      "1.0811035633087158\n",
      "1.1330000162124634\n",
      "1.1084377765655518\n",
      "1.0356404781341553\n",
      "1.1045531034469604\n",
      "1.083048939704895\n",
      "1.108473539352417\n",
      "1.1226918697357178\n",
      "1.044155240058899\n",
      "1.0228091478347778\n",
      "0.9972307682037354\n",
      "1.0785307884216309\n",
      "1.0812894105911255\n",
      "1.1164435148239136\n",
      "1.0823395252227783\n",
      "1.0974900722503662\n",
      "1.118707299232483\n",
      "1.0590444803237915\n",
      "1.0895105600357056\n",
      "1.0354546308517456\n",
      "1.0477005243301392\n",
      "1.0519165992736816\n",
      "1.1016532182693481\n",
      "1.0118790864944458\n",
      "1.1069146394729614\n",
      "1.1006404161453247\n",
      "1.0808957815170288\n",
      "1.083325743675232\n",
      "1.0175695419311523\n",
      "1.103617548942566\n",
      "1.0436639785766602\n",
      "1.0514744520187378\n",
      "1.0819183588027954\n",
      "1.0849965810775757\n",
      "1.1175493001937866\n",
      "1.057862639427185\n",
      "1.0873398780822754\n",
      "1.0776007175445557\n",
      "1.117800235748291\n",
      "1.0002721548080444\n",
      "1.1157904863357544\n",
      "1.0295450687408447\n",
      "1.0797821283340454\n",
      "1.0954296588897705\n",
      "1.0114946365356445\n",
      "1.0066699981689453\n",
      "1.0747356414794922\n",
      "1.0877323150634766\n",
      "1.0743718147277832\n",
      "1.013000726699829\n",
      "1.061951994895935\n",
      "1.0467567443847656\n",
      "1.0701552629470825\n",
      "1.1289613246917725\n",
      "1.0255826711654663\n",
      "1.0480231046676636\n",
      "1.0530529022216797\n",
      "1.0233734846115112\n",
      "1.0469427108764648\n",
      "1.078088641166687\n",
      "1.053928256034851\n",
      "1.0680339336395264\n",
      "1.0225311517715454\n",
      "1.0971359014511108\n",
      "1.1436104774475098\n",
      "1.1022555828094482\n",
      "1.0551393032073975\n",
      "1.0684363842010498\n",
      "1.0090166330337524\n",
      "1.035942792892456\n",
      "1.0641944408416748\n",
      "1.0386525392532349\n",
      "1.041533350944519\n",
      "1.084364891052246\n",
      "1.0999404191970825\n",
      "1.1160049438476562\n",
      "1.0462275743484497\n",
      "1.0600849390029907\n",
      "0.9996734857559204\n",
      "1.0730125904083252\n",
      "1.0381717681884766\n",
      "0.9522971510887146\n",
      "1.0150724649429321\n",
      "1.1039940118789673\n",
      "1.0624052286148071\n",
      "1.0302289724349976\n",
      "1.0994917154312134\n",
      "1.0815470218658447\n",
      "1.0206009149551392\n",
      "1.0336464643478394\n",
      "1.0476151704788208\n",
      "1.0962998867034912\n",
      "1.0608710050582886\n",
      "1.0329233407974243\n"
     ]
    }
   ],
   "source": [
    "batch_size =128\n",
    "for steps in range(10000):\n",
    "    xb,yb = get_batch('train')\n",
    "    \n",
    "    logits, loss = m(xb, yb)\n",
    "    optimizer.zero_grad(set_to_none=True)\n",
    "    loss.backward()\n",
    "    optimizer.step()\n",
    "\n",
    "    if steps % 100 == 0:\n",
    "        losses.append(loss.item())\n",
    "        print(loss.item())\n",
    "\n"
   ]
  },
  {
   "cell_type": "code",
   "execution_count": 137,
   "metadata": {},
   "outputs": [
    {
     "data": {
      "text/plain": [
       "[<matplotlib.lines.Line2D at 0x7f73202d6010>]"
      ]
     },
     "execution_count": 137,
     "metadata": {},
     "output_type": "execute_result"
    },
    {
     "data": {
      "image/png": "[encoded data removed]",
      "text/plain": [
       "<Figure size 640x480 with 1 Axes>"
      ]
     },
     "metadata": {
      "image/png": {
       "height": 413,
       "width": 534
      }
     },
     "output_type": "display_data"
    }
   ],
   "source": [
    "plt.plot(losses)"
   ]
  },
  {
   "cell_type": "code",
   "execution_count": 139,
   "metadata": {},
   "outputs": [
    {
     "name": "stdout",
     "output_type": "stream",
     "text": [
      "['<chord_start>', 'note_pitch 55', 'note_velocity 95', 'note_quarterlength 1.0', 'note_offset 0.0', '<end>', '<meta>', 'chord_quarterlength 0.5', 'chord_offset 1.0', '<chord_start>', 'note_pitch 60', 'note_velocity 95', 'note_quarterlength 1.0', 'note_offset 0.0', '<end>', '<meta>', 'chord_quarterlength 0.25', 'chord_offset 2.75', '<chord_start>', 'note_pitch 57', 'note_velocity 95']\n"
     ]
    }
   ],
   "source": [
    "print(decode(m.generate(idx = torch.zeros((1, 1), dtype=torch.long), max_new_tokens=20)[0].tolist()))"
   ]
  }
 ],
 "metadata": {
  "kernelspec": {
   "display_name": "MIDI-gen-ai-zQgyHHXT",
   "language": "python",
   "name": "python3"
  },
  "language_info": {
   "codemirror_mode": {
    "name": "ipython",
    "version": 3
   },
   "file_extension": ".py",
   "mimetype": "text/x-python",
   "name": "python",
   "nbconvert_exporter": "python",
   "pygments_lexer": "ipython3",
   "version": "3.11.3"
  },
  "orig_nbformat": 4
 },
 "nbformat": 4,
 "nbformat_minor": 2
}
