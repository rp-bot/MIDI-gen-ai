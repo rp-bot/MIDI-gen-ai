{
 "cells": [
  {
   "cell_type": "code",
   "execution_count": 2,
   "metadata": {},
   "outputs": [],
   "source": [
    "from music21 import converter\n",
    "from __init__ import *\n",
    "import os\n",
    "\n",
    "\n",
    "def open_midi(file_path):\n",
    "    try:\n",
    "        midi = converter.parse(file_path)\n",
    "        return midi\n",
    "    except Exception as e:\n",
    "        print(f\"An error occurred while opening the MIDI file: {e}\")"
   ]
  },
  {
   "cell_type": "code",
   "execution_count": 3,
   "metadata": {},
   "outputs": [
    {
     "data": {
      "text/plain": [
       "'/Users/rpbot_mac/Documents/GitHub/MIDI-gen-ai/Ultimate-MIDI-Scraper/data/MIDIdata'"
      ]
     },
     "execution_count": 3,
     "metadata": {},
     "output_type": "execute_result"
    }
   ],
   "source": [
    "MIDI_DATA_DIR"
   ]
  },
  {
   "cell_type": "code",
   "execution_count": 3,
   "metadata": {},
   "outputs": [
    {
     "name": "stdout",
     "output_type": "stream",
     "text": [
      "An error occurred while opening the MIDI file: Cannot find file in C:\\Users\\RP Bot\\Documents\\GitHub\\MIDI-gen-ai\\Ultimate-MIDI-Scraper\\data\\MIDIdata\\country\\Aaron Lines_She Called Me Kansas.mid\n"
     ]
    }
   ],
   "source": [
    "path_tfe_dir= [\"country\", \"Aaron Lines_She Called Me Kansas.mid\"]\n",
    "\n",
    "midi = open_midi(os.path.join(\n",
    "    MIDI_DATA_DIR, *path_tfe_dir))"
   ]
  },
  {
   "cell_type": "code",
   "execution_count": null,
   "metadata": {},
   "outputs": [],
   "source": [
    "# Extracting notes\n",
    "notes_to_parse = midi.flat.notes\n",
    "for note in notes_to_parse:\n",
    "    print(note, note.offset)"
   ]
  },
  {
   "cell_type": "code",
   "execution_count": null,
   "metadata": {},
   "outputs": [],
   "source": []
  },
  {
   "cell_type": "code",
   "execution_count": 15,
   "metadata": {},
   "outputs": [
    {
     "data": {
      "text/plain": [
       "'new_song.mid'"
      ]
     },
     "execution_count": 15,
     "metadata": {},
     "output_type": "execute_result"
    }
   ],
   "source": [
    "midi.write('midi', fp='new_song.mid')"
   ]
  },
  {
   "cell_type": "code",
   "execution_count": 4,
   "metadata": {},
   "outputs": [],
   "source": [
    "from music21 import chord, stream\n",
    "\n",
    "\n",
    "def get_chord_tracks(score):\n",
    "    try:\n",
    "        # Verify the input is a Score object\n",
    "        if not isinstance(score, stream.Score):\n",
    "            raise TypeError(\"Input must be a Score object.\")\n",
    "\n",
    "        # Container for tracks with chords\n",
    "        tracks_with_chords = stream.Score()\n",
    "\n",
    "        # Check each part for chords\n",
    "        for part in score.parts:\n",
    "            if any(isinstance(elem, chord.Chord) for elem in part.recurse()):\n",
    "                tracks_with_chords.insert(0, part)\n",
    "\n",
    "        return tracks_with_chords\n",
    "\n",
    "    except Exception as e:\n",
    "        print(f\"An error occurred: {e}\")"
   ]
  },
  {
   "cell_type": "code",
   "execution_count": 3,
   "metadata": {},
   "outputs": [],
   "source": [
    "path_tfe_dir= [\"country\", \"Aaron Lines_She Called Me Kansas.mid\"]\n",
    "\n",
    "midi = open_midi(os.path.join(\n",
    "    MIDI_DATA_DIR, *path_tfe_dir))"
   ]
  },
  {
   "cell_type": "code",
   "execution_count": 6,
   "metadata": {},
   "outputs": [],
   "source": [
    "pass1 = get_chord_tracks(midi)\n",
    "pass2 = get_chord_tracks(pass1)"
   ]
  },
  {
   "cell_type": "code",
   "execution_count": 7,
   "metadata": {},
   "outputs": [
    {
     "data": {
      "text/plain": [
       "'skdjhvckjsdv.mid'"
      ]
     },
     "execution_count": 7,
     "metadata": {},
     "output_type": "execute_result"
    }
   ],
   "source": [
    "pass2.write(\"midi\", fp=\"skdjhvckjsdv.mid\")"
   ]
  },
  {
   "cell_type": "code",
   "execution_count": null,
   "metadata": {},
   "outputs": [],
   "source": [
    "pass2."
   ]
  },
  {
   "cell_type": "code",
   "execution_count": null,
   "metadata": {},
   "outputs": [],
   "source": []
  },
  {
   "cell_type": "code",
   "execution_count": null,
   "metadata": {},
   "outputs": [],
   "source": []
  },
  {
   "cell_type": "code",
   "execution_count": null,
   "metadata": {},
   "outputs": [],
   "source": [
    "get_chord_tracks()"
   ]
  }
 ],
 "metadata": {
  "kernelspec": {
   "display_name": "MIDI-gen-ai-Dyjz1pdo",
   "language": "python",
   "name": "python3"
  },
  "language_info": {
   "codemirror_mode": {
    "name": "ipython",
    "version": 3
   },
   "file_extension": ".py",
   "mimetype": "text/x-python",
   "name": "python",
   "nbconvert_exporter": "python",
   "pygments_lexer": "ipython3",
   "version": "3.11.3"
  },
  "orig_nbformat": 4
 },
 "nbformat": 4,
 "nbformat_minor": 2
}
