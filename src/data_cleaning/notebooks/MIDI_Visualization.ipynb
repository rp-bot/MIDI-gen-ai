{
  "cells": [
    {
      "cell_type": "code",
      "execution_count": 1,
      "id": "d763add1-5a69-42df-ac5b-a6ced17f1a0d",
      "metadata": {
        "jupyter": {
          "outputs_hidden": false,
          "source_hidden": false
        },
        "noteable": {
          "cell_type": "code"
        }
      },
      "outputs": [],
      "source": [
        "import matplotlib.pyplot as plt\n",
        "from music21 import converter, instrument, note, chord\n",
        "\n",
        "def open_midi(midi_path, remove_drums):\n",
        "    # There is an one-line method to read MIDIs\n",
        "    # but to remove the drums we need to manipulate some\n",
        "    # low level MIDI events.\n",
        "    mf = midi.MidiFile()\n",
        "    mf.open(midi_path)\n",
        "    mf.read()\n",
        "    mf.close()\n",
        "    if (remove_drums):\n",
        "        for i in range(len(mf.tracks)):\n",
        "            mf.tracks[i].events = [ev for ev in mf.tracks[i].events if ev.channel != 10]\n",
        "\n",
        "    return midi.translate.midiFileToStream(mf)\n",
        "\n",
        "def list_instruments(midi):\n",
        "    partStream = midi.parts.stream()\n",
        "    print(\"List of instruments found on MIDI file:\")\n",
        "    for p in partStream:\n",
        "        aux = p\n",
        "        print(p.partName)\n",
        "\n",
        "def extract_notes(midi_part):\n",
        "    parent_element = []\n",
        "    ret = []\n",
        "    for nt in midi_part.flat.notes:\n",
        "        if isinstance(nt, note.Note):\n",
        "            ret.append(max(0.0, nt.pitch.ps))\n",
        "            parent_element.append(nt)\n",
        "        elif isinstance(nt, chord.Chord):\n",
        "            for pitch in nt.pitches:\n",
        "                ret.append(max(0.0, pitch.ps))\n",
        "                parent_element.append(nt)\n",
        "\n",
        "    return ret, parent_element"
      ]
    },
    {
      "cell_type": "code",
      "execution_count": 2,
      "id": "a7f93639-5d18-4c5d-bc2a-1ab72b9a7ba2",
      "metadata": {
        "jupyter": {
          "outputs_hidden": false,
          "source_hidden": false
        },
        "noteable": {
          "cell_type": "code"
        }
      },
      "outputs": [],
      "source": [
        "def print_parts_countour(midi):\n",
        "    fig = plt.figure(figsize=(12, 5))\n",
        "    ax = fig.add_subplot(1, 1, 1)\n",
        "    minPitch = pitch.Pitch('C10').ps\n",
        "    maxPitch = 0\n",
        "    xMax = 0\n",
        "\n",
        "    # Drawing notes\n",
        "    for i in range(len(midi.parts)):\n",
        "        top = midi.parts[i].flat.notes\n",
        "        y, parent_element = extract_notes(top)\n",
        "        if (len(y) < 1): continue\n",
        "\n",
        "        x = [n.offset for n in parent_element]\n",
        "        ax.scatter(x, y, alpha=0.6, s=7)\n",
        "\n",
        "        aux = min(y)\n",
        "        if (aux < minPitch): minPitch = aux\n",
        "\n",
        "        aux = max(y)\n",
        "        if (aux > maxPitch): maxPitch = aux\n",
        "\n",
        "        aux = max(x)\n",
        "        if (aux > xMax): xMax = aux\n",
        "\n",
        "    # Drawing pitch names\n",
        "    for i in range(int(minPitch), int(maxPitch), 12):\n",
        "        ax.annotate(pitch.Pitch(i).unicodeName, (xMax, i), xytext=(5, 0), textcoords='offset points',\n",
        "                     va='center', ha='left', rotation=90, fontsize='x-small', alpha=0.6)\n",
        "\n",
        "    plt.ylabel('Note index (each octave has 12 notes)')\n",
        "    plt.xlabel('Number of quarter notes (beats)')\n",
        "    plt.title('Voices motion overview')\n",
        "    plt.grid(True, which='both', axis='y', linestyle='-', linewidth=0.5)\n",
        "    plt.tight_layout()\n",
        "    plt.show()"
      ]
    },
    {
      "cell_type": "code",
      "execution_count": null,
      "id": "b078aada",
      "metadata": {},
      "outputs": [],
      "source": []
    }
  ],
  "metadata": {
    "kernelspec": {
      "display_name": "MIDI-gen-ai-Dyjz1pdo",
      "language": "python",
      "name": "python3"
    },
    "language_info": {
      "codemirror_mode": {
        "name": "ipython",
        "version": 3
      },
      "file_extension": ".py",
      "mimetype": "text/x-python",
      "name": "python",
      "nbconvert_exporter": "python",
      "pygments_lexer": "ipython3",
      "version": "3.11.3"
    },
    "noteable": {
      "last_delta_id": "22b12f31-5183-4786-9a9c-e043b20e3363",
      "last_transaction_id": "22b12f31-5183-4786-9a9c-e043b20e3363"
    },
    "noteable-chatgpt": {
      "create_notebook": {
        "openai_conversation_id": "9fe9c7f1-986f-5d84-92ab-78d0f3adac89",
        "openai_ephemeral_user_id": "02207451-e920-58c5-b85a-781d156fc22b",
        "openai_subdivision1_iso_code": "US-FL"
      }
    },
    "nteract": {
      "version": "noteable@2.9.0"
    },
    "selected_hardware_size": "small"
  },
  "nbformat": 4,
  "nbformat_minor": 5
}
