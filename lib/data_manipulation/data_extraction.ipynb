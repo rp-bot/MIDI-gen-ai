{
 "cells": [
  {
   "cell_type": "code",
   "execution_count": 1,
   "metadata": {},
   "outputs": [],
   "source": [
    "from music21 import chord, note, stream, clef, meter, converter\n",
    "import os\n",
    "from tqdm import tqdm\n",
    "import pandas as pd"
   ]
  },
  {
   "cell_type": "code",
   "execution_count": 2,
   "metadata": {},
   "outputs": [],
   "source": [
    "paraquet_list = pd.read_parquet(\"rock_extracted_midi.parquet\")\n",
    "paraquet_list = paraquet_list[\"rock\"].values.tolist()"
   ]
  },
  {
   "cell_type": "code",
   "execution_count": 3,
   "metadata": {},
   "outputs": [],
   "source": [
    "def filter_data2(inpute_list, genre):\n",
    "    # filtered_list = inpute_list\n",
    "    indexes_to_del = []\n",
    "    song_start_flag = False\n",
    "    genre_flag = False\n",
    "    artist_flag = False\n",
    "\n",
    "    song_start_index = 0\n",
    "    genre_index = 0\n",
    "    artist_name_index = 0\n",
    "    for i, string_ in enumerate(inpute_list):\n",
    "        if string_ == \"<song_start>\":\n",
    "            song_start_index = i\n",
    "            song_start_flag = True\n",
    "            continue\n",
    "\n",
    "        elif (\n",
    "            string_ == f\"<{genre}>\"\n",
    "            and song_start_flag == True\n",
    "            and i == song_start_index + 1\n",
    "        ):\n",
    "            genre_index = i\n",
    "            genre_flag = True\n",
    "\n",
    "            continue\n",
    "\n",
    "        elif (\n",
    "            string_.startswith(\"<artist \") == True\n",
    "            and song_start_flag == True\n",
    "            and genre_flag == True\n",
    "            and i == genre_index + 1\n",
    "        ):\n",
    "            artist_name_index = i\n",
    "            artist_flag = True\n",
    "            continue\n",
    "\n",
    "        elif (\n",
    "            string_ == \"<song_end>\"\n",
    "            and song_start_flag == True\n",
    "            and artist_flag == True\n",
    "            and genre_flag == True\n",
    "            and i == artist_name_index + 1\n",
    "        ):\n",
    "            indexes_to_del.append(song_start_index)\n",
    "            indexes_to_del.append(genre_index)\n",
    "            indexes_to_del.append(artist_name_index)\n",
    "            indexes_to_del.append(i)\n",
    "\n",
    "        elif (\n",
    "            string_ == \"<part_start>\"\n",
    "            and song_start_flag == True\n",
    "            and artist_flag == True\n",
    "            and genre_flag == True\n",
    "            and i == artist_name_index + 1\n",
    "        ):\n",
    "            song_start_flag = False\n",
    "            genre_flag = False\n",
    "            artist_flag = False\n",
    "    return indexes_to_del"
   ]
  },
  {
   "cell_type": "code",
   "execution_count": 4,
   "metadata": {},
   "outputs": [],
   "source": [
    "def filter_data3(inpute_list, genre):\n",
    "    # filtered_list = inpute_list\n",
    "    indexes_to_del = []\n",
    "    song_start_flag = False\n",
    "    genre_flag = False\n",
    "    artist_flag = False\n",
    "\n",
    "    song_start_index = 0\n",
    "    genre_index = 0\n",
    "    artist_name_index = 0\n",
    "    for i, string_ in enumerate(inpute_list):\n",
    "        if string_ == \"<song_start>\":\n",
    "            song_start_index = i\n",
    "            song_start_flag = True\n",
    "            continue\n",
    "\n",
    "        elif (\n",
    "            string_ == f\"<{genre}>\"\n",
    "            and song_start_flag == True\n",
    "            and i == song_start_index + 1\n",
    "        ):\n",
    "            genre_index = i\n",
    "            genre_flag = True\n",
    "\n",
    "            continue\n",
    "\n",
    "        elif (\n",
    "            string_.startswith(\"<artist \") == True\n",
    "            and song_start_flag == True\n",
    "            and genre_flag == True\n",
    "            and i == genre_index + 1\n",
    "        ):\n",
    "            artist_name_index = i\n",
    "            artist_flag = True\n",
    "            continue\n",
    "\n",
    "        elif (\n",
    "            string_ == \"<song_start>\"\n",
    "            and song_start_flag == True\n",
    "            and artist_flag == True\n",
    "            and genre_flag == True\n",
    "            and i == artist_name_index + 1\n",
    "        ):\n",
    "            indexes_to_del.append(song_start_index)\n",
    "            indexes_to_del.append(genre_index)\n",
    "            indexes_to_del.append(artist_name_index)\n",
    "            indexes_to_del.append(i)\n",
    "\n",
    "        elif (\n",
    "            string_ == \"<part_start>\"\n",
    "            and song_start_flag == True\n",
    "            and artist_flag == True\n",
    "            and genre_flag == True\n",
    "            and i == artist_name_index + 1\n",
    "        ):\n",
    "            song_start_flag = False\n",
    "            genre_flag = False\n",
    "            artist_flag = False\n",
    "    return indexes_to_del"
   ]
  },
  {
   "cell_type": "code",
   "execution_count": 7,
   "metadata": {},
   "outputs": [],
   "source": [
    "indexes_to_filter = filter_data3(paraquet_list, \"rock\")"
   ]
  },
  {
   "cell_type": "code",
   "execution_count": 8,
   "metadata": {},
   "outputs": [
    {
     "data": {
      "text/plain": [
       "0"
      ]
     },
     "execution_count": 8,
     "metadata": {},
     "output_type": "execute_result"
    }
   ],
   "source": [
    "len(indexes_to_filter)"
   ]
  },
  {
   "cell_type": "code",
   "execution_count": 9,
   "metadata": {},
   "outputs": [],
   "source": [
    "filtered_language = []\n",
    "for index, value in enumerate(paraquet_list):\n",
    "    if index not in indexes_to_filter:\n",
    "        filtered_language.append(value)"
   ]
  },
  {
   "cell_type": "code",
   "execution_count": 10,
   "metadata": {},
   "outputs": [],
   "source": [
    "filtered2_language = []\n",
    "for index, value in enumerate(filtered_language):\n",
    "    if index not in indexes_to_filter:\n",
    "        filtered2_language.append(value)"
   ]
  },
  {
   "cell_type": "code",
   "execution_count": 11,
   "metadata": {},
   "outputs": [],
   "source": [
    "filtered_df = pd.DataFrame(filtered2_language, columns=[\"rnb_soul\"])\n",
    "filtered_df.to_parquet(\"rnb_soul_extracted_midi.parquet\")"
   ]
  },
  {
   "attachments": {},
   "cell_type": "markdown",
   "metadata": {},
   "source": [
    "## Concatenate\n"
   ]
  },
  {
   "cell_type": "code",
   "execution_count": 12,
   "metadata": {},
   "outputs": [],
   "source": [
    "country = pd.read_parquet(\"country_extracted_midi.parquet\")\n",
    "classic = pd.read_parquet(\"classic_deconstructed_midi.parquet\")\n",
    "pop = pd.read_parquet(\"pop_extracted_midi.parquet\")\n",
    "rap_hip_hop = pd.read_parquet(\"rap_hip_hop_extracted_midi.parquet\")\n",
    "rnb_soul = pd.read_parquet(\"rnb_soul_extracted_midi.parquet\")\n",
    "rock = pd.read_parquet(\"rock_extracted_midi.parquet\")\n",
    "# Display the DataFrame"
   ]
  },
  {
   "cell_type": "code",
   "execution_count": null,
   "metadata": {},
   "outputs": [],
   "source": []
  },
  {
   "cell_type": "code",
   "execution_count": 13,
   "metadata": {},
   "outputs": [],
   "source": [
    "country_list = country[\"country\"].values.tolist()\n",
    "classic_list = classic[\"classic\"].values.tolist()\n",
    "pop_list = pop[\"pop\"].values.tolist()\n",
    "rap_hip_hop_list = rap_hip_hop[\"rap_hip_hop\"].values.tolist()\n",
    "rnb_soul_list = rnb_soul[\"rnb_soul\"].values.tolist()\n",
    "rock_list = rock[\"rock\"].values.tolist()"
   ]
  },
  {
   "cell_type": "code",
   "execution_count": 30,
   "metadata": {},
   "outputs": [
    {
     "data": {
      "text/plain": [
       "5276463"
      ]
     },
     "execution_count": 30,
     "metadata": {},
     "output_type": "execute_result"
    }
   ],
   "source": [
    "len(rock_list)"
   ]
  },
  {
   "cell_type": "code",
   "execution_count": 14,
   "metadata": {},
   "outputs": [],
   "source": [
    "large_language_base = pd.read_parquet(\"Large_MIDI_Language_Base.parquet\")"
   ]
  },
  {
   "cell_type": "code",
   "execution_count": null,
   "metadata": {},
   "outputs": [],
   "source": [
    "large_language_base_list = large_language_base[\"full_MIDI_lang_base\"].values.tolist()"
   ]
  },
  {
   "cell_type": "code",
   "execution_count": 28,
   "metadata": {},
   "outputs": [],
   "source": [
    "Larg_MIDI_Language_Base = large_language_base_list+rock_list"
   ]
  },
  {
   "cell_type": "code",
   "execution_count": null,
   "metadata": {},
   "outputs": [],
   "source": [
    "Larg_MIDI_Language_Base[-1_000_000:]"
   ]
  },
  {
   "cell_type": "code",
   "execution_count": 31,
   "metadata": {},
   "outputs": [],
   "source": [
    "Larg_MIDI_Language_Base_DF = pd.DataFrame(\n",
    "    Larg_MIDI_Language_Base, columns=[\"full_MIDI_lang_base\"])\n",
    "Larg_MIDI_Language_Base_DF.to_parquet(\"Large_MIDI_Language_Base.parquet\")"
   ]
  }
 ],
 "metadata": {
  "kernelspec": {
   "display_name": "MIDI-gen-ai-Dyjz1pdo",
   "language": "python",
   "name": "python3"
  },
  "language_info": {
   "codemirror_mode": {
    "name": "ipython",
    "version": 3
   },
   "file_extension": ".py",
   "mimetype": "text/x-python",
   "name": "python",
   "nbconvert_exporter": "python",
   "pygments_lexer": "ipython3",
   "version": "3.11.3"
  },
  "orig_nbformat": 4
 },
 "nbformat": 4,
 "nbformat_minor": 2
}
