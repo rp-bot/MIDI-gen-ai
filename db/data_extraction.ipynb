{
 "cells": [
  {
   "cell_type": "code",
   "execution_count": 8,
   "metadata": {},
   "outputs": [],
   "source": [
    "from music21 import chord, note, stream, clef, meter,converter\n",
    "import os\n",
    "from tqdm import tqdm\n",
    "import pandas as pd\n"
   ]
  },
  {
   "cell_type": "code",
   "execution_count": 7,
   "metadata": {},
   "outputs": [],
   "source": [
    "def open_midi(file_path):\n",
    "    try:\n",
    "        midi = converter.parse(file_path)\n",
    "        return midi\n",
    "    except Exception as e:\n",
    "        print(f\"An error occurred while opening the MIDI file: {e}\")"
   ]
  },
  {
   "cell_type": "code",
   "execution_count": 14,
   "metadata": {},
   "outputs": [],
   "source": [
    "def create_data_set(dest_directory):\n",
    "    all_chords = []\n",
    "    for root, dirs, files in os.walk(dest_directory):\n",
    "        print(dirs)\n",
    "        for f_i, _file in tqdm(enumerate(files), desc=\"Loaded: \"):\n",
    "            mid_file = os.path.join(root, _file)\n",
    "            midi_data = open_midi(mid_file)\n",
    "            all_chords.append(\"<song_start>\")\n",
    "            for i, part in enumerate(midi_data.parts):  # type: ignore\n",
    "                all_chords.append(f\"<part_start>\")\n",
    "                for element in part.recurse():\n",
    "                    # if isinstance(element, meter.TimeSignature):\n",
    "                    #     all_chords.append(element.ratioString)\n",
    "                    if isinstance(element, chord.Chord):\n",
    "                        all_chords.append(\"<meta>\")\n",
    "                        all_chords.append(\n",
    "                            f\"chord_quarterlength {element.duration.quarterLength.real}\")\n",
    "                        all_chords.append(f\"chord_offset {element.offset}\")\n",
    "                        all_chords.append(\"<chord_start>\")\n",
    "                        for note_i,n in enumerate(element):\n",
    "                            all_chords.append(\n",
    "                                f\"note_pitch index_{note_i} value_{n.pitch.midi}\")  # type: ignore\n",
    "                            all_chords.append(\n",
    "                                f\"note_velocity index_{note_i} value_{n.volume.velocity}\")\n",
    "                            all_chords.append(\n",
    "                                f\"note_quarterlength index_{note_i} value_{n.duration.quarterLength}\")\n",
    "                            all_chords.append(f\"note_offset index_{note_i} value_{n.offset}\")\n",
    "                        all_chords.append(\"<chord_end>\")\n",
    "            all_chords.append(\"<song_end>\")\n",
    "\n",
    "    return all_chords"
   ]
  },
  {
   "cell_type": "code",
   "execution_count": 10,
   "metadata": {},
   "outputs": [],
   "source": [
    "folder_path = \"/Users/rpbot_mac/Documents/GitHub/MIDI-gen-ai/Ultimate-MIDI-Scraper/data/MIDIdata\""
   ]
  },
  {
   "cell_type": "code",
   "execution_count": 15,
   "metadata": {},
   "outputs": [
    {
     "name": "stdout",
     "output_type": "stream",
     "text": [
      "['pop', 'classic', 'rap_hip_hop', 'rock', 'rnb_soul', 'country']\n"
     ]
    },
    {
     "name": "stderr",
     "output_type": "stream",
     "text": [
      "Loaded: : 0it [00:00, ?it/s]"
     ]
    },
    {
     "name": "stdout",
     "output_type": "stream",
     "text": [
      "An error occurred while opening the MIDI file: cannot find a format extensions for: /Users/rpbot_mac/Documents/GitHub/MIDI-gen-ai/Ultimate-MIDI-Scraper/data/MIDIdata/.DS_Store\n"
     ]
    },
    {
     "name": "stderr",
     "output_type": "stream",
     "text": [
      "\n"
     ]
    },
    {
     "ename": "AttributeError",
     "evalue": "'NoneType' object has no attribute 'parts'",
     "output_type": "error",
     "traceback": [
      "\u001b[0;31m---------------------------------------------------------------------------\u001b[0m",
      "\u001b[0;31mAttributeError\u001b[0m                            Traceback (most recent call last)",
      "Cell \u001b[0;32mIn[15], line 1\u001b[0m\n\u001b[0;32m----> 1\u001b[0m chord_set \u001b[39m=\u001b[39m create_data_set(folder_path)\n",
      "Cell \u001b[0;32mIn[14], line 9\u001b[0m, in \u001b[0;36mcreate_data_set\u001b[0;34m(dest_directory)\u001b[0m\n\u001b[1;32m      7\u001b[0m midi_data \u001b[39m=\u001b[39m open_midi(mid_file)\n\u001b[1;32m      8\u001b[0m all_chords\u001b[39m.\u001b[39mappend(\u001b[39m\"\u001b[39m\u001b[39m<song_start>\u001b[39m\u001b[39m\"\u001b[39m)\n\u001b[0;32m----> 9\u001b[0m \u001b[39mfor\u001b[39;00m i, part \u001b[39min\u001b[39;00m \u001b[39menumerate\u001b[39m(midi_data\u001b[39m.\u001b[39;49mparts):  \u001b[39m# type: ignore\u001b[39;00m\n\u001b[1;32m     10\u001b[0m     all_chords\u001b[39m.\u001b[39mappend(\u001b[39mf\u001b[39m\u001b[39m\"\u001b[39m\u001b[39m<part_start>\u001b[39m\u001b[39m\"\u001b[39m)\n\u001b[1;32m     11\u001b[0m     \u001b[39mfor\u001b[39;00m element \u001b[39min\u001b[39;00m part\u001b[39m.\u001b[39mrecurse():\n\u001b[1;32m     12\u001b[0m         \u001b[39m# if isinstance(element, meter.TimeSignature):\u001b[39;00m\n\u001b[1;32m     13\u001b[0m         \u001b[39m#     all_chords.append(element.ratioString)\u001b[39;00m\n",
      "\u001b[0;31mAttributeError\u001b[0m: 'NoneType' object has no attribute 'parts'"
     ]
    }
   ],
   "source": [
    "chord_set = create_data_set(folder_path)"
   ]
  },
  {
   "cell_type": "code",
   "execution_count": 3,
   "metadata": {},
   "outputs": [],
   "source": [
    "\n",
    "\n",
    "df = pd.DataFrame(my_list, columns=['ColumnName'])\n",
    "\n",
    "# Write DataFrame to Parquet\n",
    "df.to_parquet('deconstructed_midi.parquet')\n"
   ]
  },
  {
   "cell_type": "code",
   "execution_count": 4,
   "metadata": {},
   "outputs": [
    {
     "name": "stdout",
     "output_type": "stream",
     "text": [
      "  ColumnName\n",
      "0    string1\n",
      "1    string2\n",
      "2    string3\n"
     ]
    }
   ],
   "source": [
    "# Read parquet file\n",
    "df = pd.read_parquet('deconstructed_midi.parquet')\n",
    "\n",
    "# Display the DataFrame\n",
    "print(df)"
   ]
  }
 ],
 "metadata": {
  "kernelspec": {
   "display_name": "MIDI-gen-ai-Dyjz1pdo",
   "language": "python",
   "name": "python3"
  },
  "language_info": {
   "codemirror_mode": {
    "name": "ipython",
    "version": 3
   },
   "file_extension": ".py",
   "mimetype": "text/x-python",
   "name": "python",
   "nbconvert_exporter": "python",
   "pygments_lexer": "ipython3",
   "version": "3.11.3"
  },
  "orig_nbformat": 4
 },
 "nbformat": 4,
 "nbformat_minor": 2
}
