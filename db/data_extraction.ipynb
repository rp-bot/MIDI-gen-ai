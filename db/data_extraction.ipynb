{
 "cells": [
  {
   "cell_type": "code",
   "execution_count": 28,
   "metadata": {},
   "outputs": [],
   "source": [
    "from music21 import chord, note, stream, clef, meter, converter\n",
    "import os\n",
    "from tqdm import tqdm\n",
    "import pandas as pd"
   ]
  },
  {
   "cell_type": "code",
   "execution_count": 2,
   "metadata": {},
   "outputs": [],
   "source": [
    "path_to_classic = \"/Users/rpbot_mac/Documents/GitHub/MIDI-gen-ai/Ultimate-MIDI-Scraper/data/MIDIdata/classic\""
   ]
  },
  {
   "cell_type": "code",
   "execution_count": null,
   "metadata": {},
   "outputs": [],
   "source": [
    "os.listdir(path_to_classic)"
   ]
  },
  {
   "cell_type": "code",
   "execution_count": 7,
   "metadata": {},
   "outputs": [],
   "source": [
    "def open_midi(file_path):\n",
    "    try:\n",
    "        midi = converter.parse(file_path)\n",
    "        return midi\n",
    "    except Exception as e:\n",
    "        print(f\"An error occurred while opening the MIDI file: {e}\")"
   ]
  },
  {
   "cell_type": "code",
   "execution_count": 14,
   "metadata": {},
   "outputs": [],
   "source": [
    "def create_data_set(dest_directory):\n",
    "    all_chords = []\n",
    "    for root, dirs, files in os.walk(dest_directory):\n",
    "        print(dirs)\n",
    "        for f_i, _file in tqdm(enumerate(files), desc=\"Loaded: \"):\n",
    "            mid_file = os.path.join(root, _file)\n",
    "            midi_data = open_midi(mid_file)\n",
    "            all_chords.append(\"<song_start>\")\n",
    "            for i, part in enumerate(midi_data.parts):  # type: ignore\n",
    "                all_chords.append(f\"<part_start>\")\n",
    "                for element in part.recurse():\n",
    "                    # if isinstance(element, meter.TimeSignature):\n",
    "                    #     all_chords.append(element.ratioString)\n",
    "                    if isinstance(element, chord.Chord):\n",
    "                        all_chords.append(\"<meta>\")\n",
    "                        all_chords.append(\n",
    "                            f\"chord_quarterlength {element.duration.quarterLength.real}\"\n",
    "                        )\n",
    "                        all_chords.append(f\"chord_offset {element.offset}\")\n",
    "                        all_chords.append(\"<chord_start>\")\n",
    "                        for note_i, n in enumerate(element):\n",
    "                            all_chords.append(\n",
    "                                f\"note_pitch index_{note_i} value_{n.pitch.midi}\"\n",
    "                            )  # type: ignore\n",
    "                            all_chords.append(\n",
    "                                f\"note_velocity index_{note_i} value_{n.volume.velocity}\"\n",
    "                            )\n",
    "                            all_chords.append(\n",
    "                                f\"note_quarterlength index_{note_i} value_{n.duration.quarterLength}\"\n",
    "                            )\n",
    "                            all_chords.append(\n",
    "                                f\"note_offset index_{note_i} value_{n.offset}\"\n",
    "                            )\n",
    "                        all_chords.append(\"<chord_end>\")\n",
    "            all_chords.append(\"<song_end>\")\n",
    "\n",
    "    return all_chords"
   ]
  },
  {
   "cell_type": "code",
   "execution_count": 10,
   "metadata": {},
   "outputs": [],
   "source": [
    "folder_path = (\n",
    "    \"/Users/rpbot_mac/Documents/GitHub/MIDI-gen-ai/Ultimate-MIDI-Scraper/data/MIDIdata\"\n",
    ")"
   ]
  },
  {
   "cell_type": "code",
   "execution_count": 15,
   "metadata": {},
   "outputs": [
    {
     "name": "stdout",
     "output_type": "stream",
     "text": [
      "['pop', 'classic', 'rap_hip_hop', 'rock', 'rnb_soul', 'country']\n"
     ]
    },
    {
     "name": "stderr",
     "output_type": "stream",
     "text": [
      "Loaded: : 0it [00:00, ?it/s]"
     ]
    },
    {
     "name": "stdout",
     "output_type": "stream",
     "text": [
      "An error occurred while opening the MIDI file: cannot find a format extensions for: /Users/rpbot_mac/Documents/GitHub/MIDI-gen-ai/Ultimate-MIDI-Scraper/data/MIDIdata/.DS_Store\n"
     ]
    },
    {
     "name": "stderr",
     "output_type": "stream",
     "text": [
      "\n"
     ]
    },
    {
     "ename": "AttributeError",
     "evalue": "'NoneType' object has no attribute 'parts'",
     "output_type": "error",
     "traceback": [
      "\u001b[0;31m---------------------------------------------------------------------------\u001b[0m",
      "\u001b[0;31mAttributeError\u001b[0m                            Traceback (most recent call last)",
      "Cell \u001b[0;32mIn[15], line 1\u001b[0m\n\u001b[0;32m----> 1\u001b[0m chord_set \u001b[39m=\u001b[39m create_data_set(folder_path)\n",
      "Cell \u001b[0;32mIn[14], line 9\u001b[0m, in \u001b[0;36mcreate_data_set\u001b[0;34m(dest_directory)\u001b[0m\n\u001b[1;32m      7\u001b[0m midi_data \u001b[39m=\u001b[39m open_midi(mid_file)\n\u001b[1;32m      8\u001b[0m all_chords\u001b[39m.\u001b[39mappend(\u001b[39m\"\u001b[39m\u001b[39m<song_start>\u001b[39m\u001b[39m\"\u001b[39m)\n\u001b[0;32m----> 9\u001b[0m \u001b[39mfor\u001b[39;00m i, part \u001b[39min\u001b[39;00m \u001b[39menumerate\u001b[39m(midi_data\u001b[39m.\u001b[39;49mparts):  \u001b[39m# type: ignore\u001b[39;00m\n\u001b[1;32m     10\u001b[0m     all_chords\u001b[39m.\u001b[39mappend(\u001b[39mf\u001b[39m\u001b[39m\"\u001b[39m\u001b[39m<part_start>\u001b[39m\u001b[39m\"\u001b[39m)\n\u001b[1;32m     11\u001b[0m     \u001b[39mfor\u001b[39;00m element \u001b[39min\u001b[39;00m part\u001b[39m.\u001b[39mrecurse():\n\u001b[1;32m     12\u001b[0m         \u001b[39m# if isinstance(element, meter.TimeSignature):\u001b[39;00m\n\u001b[1;32m     13\u001b[0m         \u001b[39m#     all_chords.append(element.ratioString)\u001b[39;00m\n",
      "\u001b[0;31mAttributeError\u001b[0m: 'NoneType' object has no attribute 'parts'"
     ]
    }
   ],
   "source": [
    "chord_set = create_data_set(folder_path)"
   ]
  },
  {
   "cell_type": "code",
   "execution_count": 24,
   "metadata": {},
   "outputs": [],
   "source": [
    "my_list = []\n",
    "\n",
    "df = pd.DataFrame(my_list, columns=[\"Giga_MIDI_Language\"])\n",
    "\n",
    "# Write DataFrame to Parquet\n",
    "df.to_parquet(\"large_deconstructed_midi.parquet\")"
   ]
  },
  {
   "cell_type": "code",
   "execution_count": null,
   "metadata": {},
   "outputs": [],
   "source": [
    "# Read parquet file\n",
    "df = pd.read_parquet(\"classical_deconstructed_midi.parquet\")\n",
    "\n",
    "# Display the DataFrame\n",
    "classic_list = df[\"classical\"].values.tolist()"
   ]
  },
  {
   "cell_type": "code",
   "execution_count": 73,
   "metadata": {},
   "outputs": [],
   "source": [
    "def filter_data2(inpute_list):\n",
    "    # filtered_list = inpute_list\n",
    "    indexes_to_del = []\n",
    "    song_start_flag = False\n",
    "    genre_flag = False\n",
    "    artist_flag = False\n",
    "\n",
    "    song_start_index = 0\n",
    "    genre_index = 0\n",
    "    artist_name_index = 0\n",
    "    for i, string_ in enumerate(inpute_list):\n",
    "        if string_ == \"<song_start>\":\n",
    "            song_start_index = i\n",
    "            song_start_flag = True\n",
    "            continue\n",
    "\n",
    "        elif (\n",
    "            string_ == \"<classic>\"\n",
    "            and song_start_flag == True\n",
    "            and i == song_start_index + 1\n",
    "        ):\n",
    "            genre_index = i\n",
    "            genre_flag = True\n",
    "\n",
    "            continue\n",
    "\n",
    "        elif (\n",
    "            string_.startswith(\"<artist \") == True\n",
    "            and song_start_flag == True\n",
    "            and genre_flag == True\n",
    "            and i == genre_index + 1\n",
    "        ):\n",
    "            artist_name_index = i\n",
    "            artist_flag = True\n",
    "            continue\n",
    "\n",
    "        elif (\n",
    "            string_ == \"<song_end>\"\n",
    "            and song_start_flag == True\n",
    "            and artist_flag == True\n",
    "            and genre_flag == True\n",
    "            and i == artist_name_index + 1\n",
    "        ):\n",
    "            indexes_to_del.append(song_start_index)\n",
    "            indexes_to_del.append(genre_index)\n",
    "            indexes_to_del.append(artist_name_index)\n",
    "            indexes_to_del.append(i)\n",
    "\n",
    "        elif (\n",
    "            string_ == \"<part_start>\"\n",
    "            and song_start_flag == True\n",
    "            and artist_flag == True\n",
    "            and genre_flag == True\n",
    "            and i == artist_name_index + 1\n",
    "        ):\n",
    "            song_start_flag = False\n",
    "            genre_flag = False\n",
    "            artist_flag = False\n",
    "    return indexes_to_del"
   ]
  },
  {
   "cell_type": "code",
   "execution_count": 79,
   "metadata": {},
   "outputs": [],
   "source": [
    "indexes_to_filter = filter_data2(classic_list)"
   ]
  },
  {
   "cell_type": "code",
   "execution_count": 80,
   "metadata": {},
   "outputs": [],
   "source": [
    "filtered_language = []\n",
    "for index, value in enumerate(classic_list):\n",
    "    if index not in indexes_to_filter:\n",
    "        filtered_language.append(value)"
   ]
  },
  {
   "cell_type": "code",
   "execution_count": 89,
   "metadata": {},
   "outputs": [],
   "source": [
    "filtered_df = pd.DataFrame(filtered_language, columns=[\"classic\"])\n",
    "filtered_df.to_parquet(\"classic_deconstructed_midi.parquet\")"
   ]
  },
  {
   "cell_type": "code",
   "execution_count": 90,
   "metadata": {},
   "outputs": [
    {
     "data": {
      "text/html": [
       "<div>\n",
       "<style scoped>\n",
       "    .dataframe tbody tr th:only-of-type {\n",
       "        vertical-align: middle;\n",
       "    }\n",
       "\n",
       "    .dataframe tbody tr th {\n",
       "        vertical-align: top;\n",
       "    }\n",
       "\n",
       "    .dataframe thead th {\n",
       "        text-align: right;\n",
       "    }\n",
       "</style>\n",
       "<table border=\"1\" class=\"dataframe\">\n",
       "  <thead>\n",
       "    <tr style=\"text-align: right;\">\n",
       "      <th></th>\n",
       "      <th>classic</th>\n",
       "    </tr>\n",
       "  </thead>\n",
       "  <tbody>\n",
       "    <tr>\n",
       "      <th>0</th>\n",
       "      <td>&lt;song_start&gt;</td>\n",
       "    </tr>\n",
       "    <tr>\n",
       "      <th>1</th>\n",
       "      <td>&lt;classic&gt;</td>\n",
       "    </tr>\n",
       "    <tr>\n",
       "      <th>2</th>\n",
       "      <td>&lt;artist Abdelmoine Alfa&gt;</td>\n",
       "    </tr>\n",
       "    <tr>\n",
       "      <th>3</th>\n",
       "      <td>&lt;part_start&gt;</td>\n",
       "    </tr>\n",
       "    <tr>\n",
       "      <th>4</th>\n",
       "      <td>&lt;chord_meta&gt;</td>\n",
       "    </tr>\n",
       "    <tr>\n",
       "      <th>...</th>\n",
       "      <td>...</td>\n",
       "    </tr>\n",
       "    <tr>\n",
       "      <th>3236572</th>\n",
       "      <td>note_velocity value_127</td>\n",
       "    </tr>\n",
       "    <tr>\n",
       "      <th>3236573</th>\n",
       "      <td>note_quarterlength value_1.0</td>\n",
       "    </tr>\n",
       "    <tr>\n",
       "      <th>3236574</th>\n",
       "      <td>note_offset value_0.0</td>\n",
       "    </tr>\n",
       "    <tr>\n",
       "      <th>3236575</th>\n",
       "      <td>&lt;chord_end&gt;</td>\n",
       "    </tr>\n",
       "    <tr>\n",
       "      <th>3236576</th>\n",
       "      <td>&lt;song_end&gt;</td>\n",
       "    </tr>\n",
       "  </tbody>\n",
       "</table>\n",
       "<p>3236577 rows × 1 columns</p>\n",
       "</div>"
      ],
      "text/plain": [
       "                              classic\n",
       "0                        <song_start>\n",
       "1                           <classic>\n",
       "2            <artist Abdelmoine Alfa>\n",
       "3                        <part_start>\n",
       "4                        <chord_meta>\n",
       "...                               ...\n",
       "3236572       note_velocity value_127\n",
       "3236573  note_quarterlength value_1.0\n",
       "3236574         note_offset value_0.0\n",
       "3236575                   <chord_end>\n",
       "3236576                    <song_end>\n",
       "\n",
       "[3236577 rows x 1 columns]"
      ]
     },
     "execution_count": 90,
     "metadata": {},
     "output_type": "execute_result"
    }
   ],
   "source": [
    "df = pd.read_parquet(\"classic_deconstructed_midi.parquet\")\n",
    "\n",
    "# Display the DataFrame\n",
    "df"
   ]
  },
  {
   "cell_type": "code",
   "execution_count": null,
   "metadata": {},
   "outputs": [],
   "source": []
  }
 ],
 "metadata": {
  "kernelspec": {
   "display_name": "MIDI-gen-ai-Dyjz1pdo",
   "language": "python",
   "name": "python3"
  },
  "language_info": {
   "codemirror_mode": {
    "name": "ipython",
    "version": 3
   },
   "file_extension": ".py",
   "mimetype": "text/x-python",
   "name": "python",
   "nbconvert_exporter": "python",
   "pygments_lexer": "ipython3",
   "version": "3.11.3"
  },
  "orig_nbformat": 4
 },
 "nbformat": 4,
 "nbformat_minor": 2
}
